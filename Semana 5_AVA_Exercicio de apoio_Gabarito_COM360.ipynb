{
  "nbformat": 4,
  "nbformat_minor": 0,
  "metadata": {
    "colab": {
      "name": "semana-5-exercicio-apoio.ipynb",
      "provenance": [],
      "collapsed_sections": []
    },
    "kernelspec": {
      "name": "python3",
      "display_name": "Python 3"
    },
    "language_info": {
      "name": "python"
    }
  },
  "cells": [
    {
      "cell_type": "markdown",
      "source": [
        "## Mineração de dados - Semana 5: \n",
        "\n",
        "### Exercício sobre análise de agrupamento\n",
        "\n",
        "Use o algoritmo **complete-linkage** para analisar um conjunto de dados socioeconômicos de países. Para fazer a análise, selecione os atributos **child_mort** e **life_expec** usando 4 grupos, e como a medida de similaridade use a distância euclidiana. Gere o dendograma e o gráfico de dispersão dos dados.\n",
        "\n",
        "Responda também: quais são os países que têm as piores taxas de mortalidade e expectativa de vida? Os que têm as melhores taxas? Sugestão: filtre o dataframe usando os valores apontados no gráfico de dispersão ou plote os nomes dos países no gráfico.\n",
        "\n",
        "Descrição dos dados:\n",
        "\n",
        "* **country**: nome do país\n",
        "* **child_mort**: mortalidade infantil de crianças até 5 anos a cada mil nascidos\n",
        "* **exports**: porcentual de participação das exportações no PIB\n",
        "* **health**: porcentual de gastos com saúde em relação ao PIB\n",
        "* **imports**: porcentual de participação das importações no PIB\n",
        "* **income**: renda anual per capita\n",
        "* **inflation**: taxa de crescimento anual do PIB\n",
        "* **life_expec**: expectativa de vida de acordo com a taxa de mortalidade\n",
        "* **total_fer**: número de crianças que poderiam nascer por mulher de acordo com as taxas de fertilidade/idade\n",
        "* **gdpp**: PIB per capita\n",
        "\n",
        "Os dados originais foram retirados do Kaggle ([Country Socioeconomic Data](https://www.kaggle.com/datasets/ashydv/country-socioeconomic-data)) e estão disponíveis neste [link](https://raw.githubusercontent.com/higoramario/univesp-com360-mineracao-dados/main/country-data.csv)."
      ],
      "metadata": {
        "id": "5oxNW8e7rws3"
      }
    },
    {
      "cell_type": "markdown",
      "source": [
        "#### Importando as bibliotecas e carregando os dados"
      ],
      "metadata": {
        "id": "njT-ZZMi5dFC"
      }
    },
    {
      "cell_type": "code",
      "execution_count": 7,
      "metadata": {
        "id": "NUj8NkxkrIfY"
      },
      "outputs": [],
      "source": [
        "import pandas as pd\n",
        "import matplotlib.pyplot as plt\n",
        "import numpy as np\n",
        "import scipy.cluster.hierarchy as shc\n",
        "from sklearn.cluster import AgglomerativeClustering\n",
        "plt.rcParams[\"figure.figsize\"] = (15,10)"
      ]
    },
    {
      "cell_type": "code",
      "source": [
        "url = 'https://raw.githubusercontent.com/higoramario/univesp-com360-mineracao-dados/main/country-data.csv'\n",
        "paises = pd.read_csv(url)\n",
        "paises.head(10)"
      ],
      "metadata": {
        "colab": {
          "base_uri": "https://localhost:8080/",
          "height": 363
        },
        "id": "oHc2KWfcr9mV",
        "outputId": "a1aa9329-fa41-4b4a-99a4-6962be8f0cec"
      },
      "execution_count": 2,
      "outputs": [
        {
          "output_type": "execute_result",
          "data": {
            "text/plain": [
              "               country  child_mort  exports  health  imports  income  \\\n",
              "0          Afghanistan        90.2     10.0    7.58     44.9    1610   \n",
              "1              Albania        16.6     28.0    6.55     48.6    9930   \n",
              "2              Algeria        27.3     38.4    4.17     31.4   12900   \n",
              "3               Angola       119.0     62.3    2.85     42.9    5900   \n",
              "4  Antigua and Barbuda        10.3     45.5    6.03     58.9   19100   \n",
              "5            Argentina        14.5     18.9    8.10     16.0   18700   \n",
              "6              Armenia        18.1     20.8    4.40     45.3    6700   \n",
              "7            Australia         4.8     19.8    8.73     20.9   41400   \n",
              "8              Austria         4.3     51.3   11.00     47.8   43200   \n",
              "9           Azerbaijan        39.2     54.3    5.88     20.7   16000   \n",
              "\n",
              "   inflation  life_expec  total_fer   gdpp  \n",
              "0      9.440        56.2       5.82    553  \n",
              "1      4.490        76.3       1.65   4090  \n",
              "2     16.100        76.5       2.89   4460  \n",
              "3     22.400        60.1       6.16   3530  \n",
              "4      1.440        76.8       2.13  12200  \n",
              "5     20.900        75.8       2.37  10300  \n",
              "6      7.770        73.3       1.69   3220  \n",
              "7      1.160        82.0       1.93  51900  \n",
              "8      0.873        80.5       1.44  46900  \n",
              "9     13.800        69.1       1.92   5840  "
            ],
            "text/html": [
              "\n",
              "  <div id=\"df-e8e6c8a4-46e2-4c41-88f6-c1a631c903d4\">\n",
              "    <div class=\"colab-df-container\">\n",
              "      <div>\n",
              "<style scoped>\n",
              "    .dataframe tbody tr th:only-of-type {\n",
              "        vertical-align: middle;\n",
              "    }\n",
              "\n",
              "    .dataframe tbody tr th {\n",
              "        vertical-align: top;\n",
              "    }\n",
              "\n",
              "    .dataframe thead th {\n",
              "        text-align: right;\n",
              "    }\n",
              "</style>\n",
              "<table border=\"1\" class=\"dataframe\">\n",
              "  <thead>\n",
              "    <tr style=\"text-align: right;\">\n",
              "      <th></th>\n",
              "      <th>country</th>\n",
              "      <th>child_mort</th>\n",
              "      <th>exports</th>\n",
              "      <th>health</th>\n",
              "      <th>imports</th>\n",
              "      <th>income</th>\n",
              "      <th>inflation</th>\n",
              "      <th>life_expec</th>\n",
              "      <th>total_fer</th>\n",
              "      <th>gdpp</th>\n",
              "    </tr>\n",
              "  </thead>\n",
              "  <tbody>\n",
              "    <tr>\n",
              "      <th>0</th>\n",
              "      <td>Afghanistan</td>\n",
              "      <td>90.2</td>\n",
              "      <td>10.0</td>\n",
              "      <td>7.58</td>\n",
              "      <td>44.9</td>\n",
              "      <td>1610</td>\n",
              "      <td>9.440</td>\n",
              "      <td>56.2</td>\n",
              "      <td>5.82</td>\n",
              "      <td>553</td>\n",
              "    </tr>\n",
              "    <tr>\n",
              "      <th>1</th>\n",
              "      <td>Albania</td>\n",
              "      <td>16.6</td>\n",
              "      <td>28.0</td>\n",
              "      <td>6.55</td>\n",
              "      <td>48.6</td>\n",
              "      <td>9930</td>\n",
              "      <td>4.490</td>\n",
              "      <td>76.3</td>\n",
              "      <td>1.65</td>\n",
              "      <td>4090</td>\n",
              "    </tr>\n",
              "    <tr>\n",
              "      <th>2</th>\n",
              "      <td>Algeria</td>\n",
              "      <td>27.3</td>\n",
              "      <td>38.4</td>\n",
              "      <td>4.17</td>\n",
              "      <td>31.4</td>\n",
              "      <td>12900</td>\n",
              "      <td>16.100</td>\n",
              "      <td>76.5</td>\n",
              "      <td>2.89</td>\n",
              "      <td>4460</td>\n",
              "    </tr>\n",
              "    <tr>\n",
              "      <th>3</th>\n",
              "      <td>Angola</td>\n",
              "      <td>119.0</td>\n",
              "      <td>62.3</td>\n",
              "      <td>2.85</td>\n",
              "      <td>42.9</td>\n",
              "      <td>5900</td>\n",
              "      <td>22.400</td>\n",
              "      <td>60.1</td>\n",
              "      <td>6.16</td>\n",
              "      <td>3530</td>\n",
              "    </tr>\n",
              "    <tr>\n",
              "      <th>4</th>\n",
              "      <td>Antigua and Barbuda</td>\n",
              "      <td>10.3</td>\n",
              "      <td>45.5</td>\n",
              "      <td>6.03</td>\n",
              "      <td>58.9</td>\n",
              "      <td>19100</td>\n",
              "      <td>1.440</td>\n",
              "      <td>76.8</td>\n",
              "      <td>2.13</td>\n",
              "      <td>12200</td>\n",
              "    </tr>\n",
              "    <tr>\n",
              "      <th>5</th>\n",
              "      <td>Argentina</td>\n",
              "      <td>14.5</td>\n",
              "      <td>18.9</td>\n",
              "      <td>8.10</td>\n",
              "      <td>16.0</td>\n",
              "      <td>18700</td>\n",
              "      <td>20.900</td>\n",
              "      <td>75.8</td>\n",
              "      <td>2.37</td>\n",
              "      <td>10300</td>\n",
              "    </tr>\n",
              "    <tr>\n",
              "      <th>6</th>\n",
              "      <td>Armenia</td>\n",
              "      <td>18.1</td>\n",
              "      <td>20.8</td>\n",
              "      <td>4.40</td>\n",
              "      <td>45.3</td>\n",
              "      <td>6700</td>\n",
              "      <td>7.770</td>\n",
              "      <td>73.3</td>\n",
              "      <td>1.69</td>\n",
              "      <td>3220</td>\n",
              "    </tr>\n",
              "    <tr>\n",
              "      <th>7</th>\n",
              "      <td>Australia</td>\n",
              "      <td>4.8</td>\n",
              "      <td>19.8</td>\n",
              "      <td>8.73</td>\n",
              "      <td>20.9</td>\n",
              "      <td>41400</td>\n",
              "      <td>1.160</td>\n",
              "      <td>82.0</td>\n",
              "      <td>1.93</td>\n",
              "      <td>51900</td>\n",
              "    </tr>\n",
              "    <tr>\n",
              "      <th>8</th>\n",
              "      <td>Austria</td>\n",
              "      <td>4.3</td>\n",
              "      <td>51.3</td>\n",
              "      <td>11.00</td>\n",
              "      <td>47.8</td>\n",
              "      <td>43200</td>\n",
              "      <td>0.873</td>\n",
              "      <td>80.5</td>\n",
              "      <td>1.44</td>\n",
              "      <td>46900</td>\n",
              "    </tr>\n",
              "    <tr>\n",
              "      <th>9</th>\n",
              "      <td>Azerbaijan</td>\n",
              "      <td>39.2</td>\n",
              "      <td>54.3</td>\n",
              "      <td>5.88</td>\n",
              "      <td>20.7</td>\n",
              "      <td>16000</td>\n",
              "      <td>13.800</td>\n",
              "      <td>69.1</td>\n",
              "      <td>1.92</td>\n",
              "      <td>5840</td>\n",
              "    </tr>\n",
              "  </tbody>\n",
              "</table>\n",
              "</div>\n",
              "      <button class=\"colab-df-convert\" onclick=\"convertToInteractive('df-e8e6c8a4-46e2-4c41-88f6-c1a631c903d4')\"\n",
              "              title=\"Convert this dataframe to an interactive table.\"\n",
              "              style=\"display:none;\">\n",
              "        \n",
              "  <svg xmlns=\"http://www.w3.org/2000/svg\" height=\"24px\"viewBox=\"0 0 24 24\"\n",
              "       width=\"24px\">\n",
              "    <path d=\"M0 0h24v24H0V0z\" fill=\"none\"/>\n",
              "    <path d=\"M18.56 5.44l.94 2.06.94-2.06 2.06-.94-2.06-.94-.94-2.06-.94 2.06-2.06.94zm-11 1L8.5 8.5l.94-2.06 2.06-.94-2.06-.94L8.5 2.5l-.94 2.06-2.06.94zm10 10l.94 2.06.94-2.06 2.06-.94-2.06-.94-.94-2.06-.94 2.06-2.06.94z\"/><path d=\"M17.41 7.96l-1.37-1.37c-.4-.4-.92-.59-1.43-.59-.52 0-1.04.2-1.43.59L10.3 9.45l-7.72 7.72c-.78.78-.78 2.05 0 2.83L4 21.41c.39.39.9.59 1.41.59.51 0 1.02-.2 1.41-.59l7.78-7.78 2.81-2.81c.8-.78.8-2.07 0-2.86zM5.41 20L4 18.59l7.72-7.72 1.47 1.35L5.41 20z\"/>\n",
              "  </svg>\n",
              "      </button>\n",
              "      \n",
              "  <style>\n",
              "    .colab-df-container {\n",
              "      display:flex;\n",
              "      flex-wrap:wrap;\n",
              "      gap: 12px;\n",
              "    }\n",
              "\n",
              "    .colab-df-convert {\n",
              "      background-color: #E8F0FE;\n",
              "      border: none;\n",
              "      border-radius: 50%;\n",
              "      cursor: pointer;\n",
              "      display: none;\n",
              "      fill: #1967D2;\n",
              "      height: 32px;\n",
              "      padding: 0 0 0 0;\n",
              "      width: 32px;\n",
              "    }\n",
              "\n",
              "    .colab-df-convert:hover {\n",
              "      background-color: #E2EBFA;\n",
              "      box-shadow: 0px 1px 2px rgba(60, 64, 67, 0.3), 0px 1px 3px 1px rgba(60, 64, 67, 0.15);\n",
              "      fill: #174EA6;\n",
              "    }\n",
              "\n",
              "    [theme=dark] .colab-df-convert {\n",
              "      background-color: #3B4455;\n",
              "      fill: #D2E3FC;\n",
              "    }\n",
              "\n",
              "    [theme=dark] .colab-df-convert:hover {\n",
              "      background-color: #434B5C;\n",
              "      box-shadow: 0px 1px 3px 1px rgba(0, 0, 0, 0.15);\n",
              "      filter: drop-shadow(0px 1px 2px rgba(0, 0, 0, 0.3));\n",
              "      fill: #FFFFFF;\n",
              "    }\n",
              "  </style>\n",
              "\n",
              "      <script>\n",
              "        const buttonEl =\n",
              "          document.querySelector('#df-e8e6c8a4-46e2-4c41-88f6-c1a631c903d4 button.colab-df-convert');\n",
              "        buttonEl.style.display =\n",
              "          google.colab.kernel.accessAllowed ? 'block' : 'none';\n",
              "\n",
              "        async function convertToInteractive(key) {\n",
              "          const element = document.querySelector('#df-e8e6c8a4-46e2-4c41-88f6-c1a631c903d4');\n",
              "          const dataTable =\n",
              "            await google.colab.kernel.invokeFunction('convertToInteractive',\n",
              "                                                     [key], {});\n",
              "          if (!dataTable) return;\n",
              "\n",
              "          const docLinkHtml = 'Like what you see? Visit the ' +\n",
              "            '<a target=\"_blank\" href=https://colab.research.google.com/notebooks/data_table.ipynb>data table notebook</a>'\n",
              "            + ' to learn more about interactive tables.';\n",
              "          element.innerHTML = '';\n",
              "          dataTable['output_type'] = 'display_data';\n",
              "          await google.colab.output.renderOutput(dataTable, element);\n",
              "          const docLink = document.createElement('div');\n",
              "          docLink.innerHTML = docLinkHtml;\n",
              "          element.appendChild(docLink);\n",
              "        }\n",
              "      </script>\n",
              "    </div>\n",
              "  </div>\n",
              "  "
            ]
          },
          "metadata": {},
          "execution_count": 2
        }
      ]
    },
    {
      "cell_type": "markdown",
      "source": [
        "Vamos ficar somente com as colunas **child_mort** (mortalidade infantil) e **life_expec** (expectativa de vida) para poder ver os dados em um espaço bidimensional. Mas você pode experimentar com as demais colunas e achar relações interessantes, ou usar várias delas simultaneamente."
      ],
      "metadata": {
        "id": "C4umz1Wqvucf"
      }
    },
    {
      "cell_type": "code",
      "source": [
        "paises_2d = paises[['child_mort','life_expec']]"
      ],
      "metadata": {
        "id": "IkJ7aj7MtSD1"
      },
      "execution_count": 3,
      "outputs": []
    },
    {
      "cell_type": "markdown",
      "source": [
        "Agora, vamos visualizar o dendograma usando o complete-linkage, que vai nos indicar o número de grupos da base de dados."
      ],
      "metadata": {
        "id": "NFu-lfMKxK4E"
      }
    },
    {
      "cell_type": "code",
      "source": [
        "plt.figure(figsize=(15, 10))\n",
        "plt.title(\"Dendograma dos países\")\n",
        "dendograma = shc.dendrogram(shc.linkage(paises_2d, method='complete'))"
      ],
      "metadata": {
        "colab": {
          "base_uri": "https://localhost:8080/",
          "height": 607
        },
        "id": "1xHs4VbsxoJa",
        "outputId": "9d6891e4-e0c8-4980-e7d5-11fe1dacce88"
      },
      "execution_count": null,
      "outputs": [
        {
          "output_type": "display_data",
          "data": {
            "text/plain": [
              "<Figure size 1080x720 with 1 Axes>"
            ],
            "image/png": "[encoded data removed]"
          },
          "metadata": {
            "needs_background": "light"
          }
        }
      ]
    },
    {
      "cell_type": "markdown",
      "source": [
        "####  Vamos usar 4 grupos, o complete linkage e a distância euclidiana."
      ],
      "metadata": {
        "id": "KqyRbxuY7zP9"
      }
    },
    {
      "cell_type": "code",
      "source": [
        "grupos = AgglomerativeClustering(n_clusters=4, affinity='euclidean', linkage='complete')\n",
        "grupos.fit_predict(paises_2d)"
      ],
      "metadata": {
        "colab": {
          "base_uri": "https://localhost:8080/"
        },
        "id": "Dv68EhIlzNf6",
        "outputId": "6eaf28e0-1390-4d65-9945-7935d58a1c1d"
      },
      "execution_count": 4,
      "outputs": [
        {
          "output_type": "execute_result",
          "data": {
            "text/plain": [
              "array([2, 1, 1, 0, 1, 1, 1, 1, 1, 1, 1, 1, 1, 1, 1, 1, 1, 0, 1, 1, 1, 2,\n",
              "       1, 1, 1, 0, 2, 1, 0, 1, 1, 0, 0, 1, 1, 1, 2, 0, 2, 1, 0, 1, 1, 1,\n",
              "       1, 1, 1, 1, 1, 0, 2, 1, 1, 1, 1, 2, 2, 1, 1, 2, 1, 1, 1, 0, 0, 1,\n",
              "       3, 1, 1, 2, 1, 1, 1, 1, 1, 1, 1, 1, 1, 1, 2, 2, 1, 1, 2, 1, 1, 2,\n",
              "       2, 1, 1, 1, 1, 2, 2, 1, 1, 0, 1, 2, 1, 1, 1, 1, 1, 1, 2, 2, 2, 1,\n",
              "       1, 1, 0, 0, 1, 1, 2, 1, 1, 1, 1, 1, 1, 1, 1, 1, 2, 1, 1, 2, 1, 1,\n",
              "       0, 1, 1, 1, 1, 2, 1, 1, 1, 1, 2, 1, 1, 1, 1, 2, 1, 2, 2, 1, 1, 1,\n",
              "       2, 2, 1, 1, 1, 1, 1, 1, 1, 1, 1, 2, 2])"
            ]
          },
          "metadata": {},
          "execution_count": 4
        }
      ]
    },
    {
      "cell_type": "markdown",
      "source": [
        "#### Vamos ver os resultado do processo de agrupamento usando um gráfico de dispersão e pintando os objetos dos grupos com cores diferentes.\n"
      ],
      "metadata": {
        "id": "poebW__Cz0hz"
      }
    },
    {
      "cell_type": "code",
      "source": [
        "plt.scatter(paises_2d['child_mort'],paises_2d['life_expec'],c=grupos.labels_,cmap='rainbow')\n",
        "plt.xlabel('Mortalidade infantil')\n",
        "plt.ylabel('Expectativa de vida')\n",
        "plt.show()"
      ],
      "metadata": {
        "colab": {
          "base_uri": "https://localhost:8080/",
          "height": 606
        },
        "id": "q8ojiVIRzv4X",
        "outputId": "3b05060f-bff7-4484-efe4-fe689875ff19"
      },
      "execution_count": 10,
      "outputs": [
        {
          "output_type": "display_data",
          "data": {
            "text/plain": [
              "<Figure size 1080x720 with 1 Axes>"
            ],
            "image/png": "[encoded data removed]"
          },
          "metadata": {
            "needs_background": "light"
          }
        }
      ]
    },
    {
      "cell_type": "markdown",
      "source": [
        "#### Quais são os países que têm as piores taxas de mortalidade e expectativa de vida? Os que têm as melhores taxas?\n",
        "\n",
        "Olhando o gráfico de dispersão, podemos ver os valores que podem ser usados para responder a essas questões."
      ],
      "metadata": {
        "id": "cyETaIqPOqTK"
      }
    },
    {
      "cell_type": "markdown",
      "source": [
        "#### Pior taxa de mortalidade"
      ],
      "metadata": {
        "id": "c2ayQAQOGSmX"
      }
    },
    {
      "cell_type": "code",
      "source": [
        "paises['country'][paises['child_mort'] > 200]"
      ],
      "metadata": {
        "colab": {
          "base_uri": "https://localhost:8080/"
        },
        "id": "JnZiSGM2NanR",
        "outputId": "991303d4-0bc7-4a52-80fc-e91f1e302160"
      },
      "execution_count": null,
      "outputs": [
        {
          "output_type": "execute_result",
          "data": {
            "text/plain": [
              "66    Haiti\n",
              "Name: country, dtype: object"
            ]
          },
          "metadata": {},
          "execution_count": 9
        }
      ]
    },
    {
      "cell_type": "markdown",
      "source": [
        "#### Pior expectativa de vida"
      ],
      "metadata": {
        "id": "4r3KSFAnGYab"
      }
    },
    {
      "cell_type": "code",
      "source": [
        "paises['country'][paises['life_expec'] < 35]"
      ],
      "metadata": {
        "colab": {
          "base_uri": "https://localhost:8080/"
        },
        "id": "yY-wxJssB3ti",
        "outputId": "8a0e30d2-8a39-4d19-a3b4-5b412bf2b36c"
      },
      "execution_count": 26,
      "outputs": [
        {
          "output_type": "execute_result",
          "data": {
            "text/plain": [
              "66    Haiti\n",
              "Name: country, dtype: object"
            ]
          },
          "metadata": {},
          "execution_count": 26
        }
      ]
    },
    {
      "cell_type": "markdown",
      "source": [
        "#### Melhor taxa de mortalidade"
      ],
      "metadata": {
        "id": "eAfQt0B3GfJu"
      }
    },
    {
      "cell_type": "code",
      "source": [
        "paises['country'][paises['child_mort'] < 3]"
      ],
      "metadata": {
        "colab": {
          "base_uri": "https://localhost:8080/"
        },
        "outputId": "b15daaa4-81c4-496b-8518-2b022074cdbd",
        "id": "VbTYbpLtUxRV"
      },
      "execution_count": null,
      "outputs": [
        {
          "output_type": "execute_result",
          "data": {
            "text/plain": [
              "68        Iceland\n",
              "91     Luxembourg\n",
              "133     Singapore\n",
              "Name: country, dtype: object"
            ]
          },
          "metadata": {},
          "execution_count": 15
        }
      ]
    },
    {
      "cell_type": "markdown",
      "source": [
        "#### Melhor expectativa de vida"
      ],
      "metadata": {
        "id": "stIlaMySGhZ9"
      }
    },
    {
      "cell_type": "code",
      "source": [
        "paises['country'][paises['life_expec'] > 82]"
      ],
      "metadata": {
        "colab": {
          "base_uri": "https://localhost:8080/"
        },
        "id": "eQ1RDrTcB3fH",
        "outputId": "491a9cfa-4367-4ab7-9c13-1e5fa3a46f3b"
      },
      "execution_count": 25,
      "outputs": [
        {
          "output_type": "execute_result",
          "data": {
            "text/plain": [
              "77           Japan\n",
              "133      Singapore\n",
              "145    Switzerland\n",
              "Name: country, dtype: object"
            ]
          },
          "metadata": {},
          "execution_count": 25
        }
      ]
    },
    {
      "cell_type": "markdown",
      "source": [
        "#### Para visualizar os países com melhores e piores índices, vamos adicionar rótulos a alguns pontos do gráfico. Adicionalmente, vamos ver onde o está o Brasil."
      ],
      "metadata": {
        "id": "29f5adfDE4c1"
      }
    },
    {
      "cell_type": "code",
      "source": [
        "fig, eixo = plt.subplots()\n",
        "\n",
        "eixo.scatter(paises_2d['child_mort'],paises_2d['life_expec'],c=grupos.labels_,cmap='rainbow')\n",
        "eixo.set_xlabel('Mortalidade infantil')\n",
        "eixo.set_ylabel('Expectativa de vida')\n",
        "\n",
        "# iterando sobre o dataframe original, que tem o nome dos países\n",
        "for i, texto in enumerate(paises['country']):\n",
        "    # só vamos adicionar rótulos nos extremos para não poluir a visualização\n",
        "    if ((paises.iloc[i]['life_expec'] < 35 and paises.iloc[i]['child_mort'] > 200) \n",
        "       or (paises.iloc[i]['life_expec'] > 82 and paises.iloc[i]['child_mort'] < 3) \n",
        "       or (paises.iloc[i]['country'] == 'Brazil')):\n",
        "        eixo.annotate(texto, (paises.iloc[i]['child_mort'], paises.iloc[i]['life_expec']))\n",
        "\n",
        "plt.show()"
      ],
      "metadata": {
        "colab": {
          "base_uri": "https://localhost:8080/",
          "height": 606
        },
        "id": "4RLKGeoZ9sPd",
        "outputId": "88286643-94d4-4ee9-f7e4-333db4a40de6"
      },
      "execution_count": 38,
      "outputs": [
        {
          "output_type": "display_data",
          "data": {
            "text/plain": [
              "<Figure size 1080x720 with 1 Axes>"
            ],
            "image/png": "[encoded data removed]"
          },
          "metadata": {
            "needs_background": "light"
          }
        }
      ]
    },
    {
      "cell_type": "markdown",
      "source": [
        "Experimente outros atributos da base para explorar mais o agrupamento hierárquico. Tente usar também o algoritmo single-linkage e veja as diferenças."
      ],
      "metadata": {
        "id": "o37psasBe6lD"
      }
    },
    {
      "cell_type": "code",
      "source": [
        ""
      ],
      "metadata": {
        "id": "gB7UWTu_e8pI"
      },
      "execution_count": null,
      "outputs": []
    }
  ]
}