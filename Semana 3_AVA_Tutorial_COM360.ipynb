{
  "nbformat": 4,
  "nbformat_minor": 0,
  "metadata": {
    "colab": {
      "name": "semana-3-tutorial-add.ipynb",
      "provenance": [],
      "collapsed_sections": []
    },
    "kernelspec": {
      "name": "python3",
      "display_name": "Python 3"
    },
    "language_info": {
      "name": "python"
    }
  },
  "cells": [
    {
      "cell_type": "markdown",
      "source": [
        "## Mineração de dados - Semana 3: \n",
        "### Exercício sobre análise descritiva de dados (ADD)\n",
        "\n",
        "Neste exercício, iremos fazer a análise descritiva de uma base de dados com o objetivo de aplicar o conteúdo visto nesta semana. \n",
        "\n",
        "1. Crie um novo notebook e inclua uma descrição para ele. \n",
        "\n",
        "2. Nesta atividade, além da biblioteca **pandas**, vamos importar as bibliotecas **seaborn** e **matplotlib** para gerar os gráficos."
      ],
      "metadata": {
        "id": "5oxNW8e7rws3"
      }
    },
    {
      "cell_type": "code",
      "execution_count": null,
      "metadata": {
        "id": "NUj8NkxkrIfY"
      },
      "outputs": [],
      "source": [
        "import pandas as pd\n",
        "import seaborn as sb\n",
        "import matplotlib.pyplot as plt\n",
        "\n",
        "sb.set(rc={'figure.figsize':(15,8)})"
      ]
    },
    {
      "cell_type": "markdown",
      "source": [
        "A base de dados deste exercício é a \"Quantidade de alunos por tipo de ensino\" da rede estadual de São Paulo de 2021. A base tem 25 atributos, entre os quais estão:\n",
        "\n",
        "* **MUN**: município\n",
        "* **ZONA**: zona (1 = urbana, 2 - rural)\n",
        "* **ANOS INICIAIS**: Anos iniciais do ensino fundamental\n",
        "* **ANOS FINAIS**: Anos finais do ensino fundamental\n",
        "* **ENSINO MEDIO**: Anos iniciais do ensino fundamental\n",
        "\n",
        "Os dados estão sendo importados diretamente do [Portal de Dados Abertos da Educação do Estado de São Paulo](https://dados.educacao.sp.gov.br/dataset/quantidade-de-alunos-por-tipo-de-ensino-da-rede-estadual).\n",
        "O dicionário de dados está disponível neste [link](https://dados.educacao.sp.gov.br/dicion%C3%A1rio-de-dados-de-quantidade-de-alunos-por-tipo-de-ensino)\n",
        "\n",
        "3. Importe a base de dados direto da URL a seguir e verifique as primeiras linhas. O arquivo contém 50 registros. Olhando os 20 primeiros, podemos observar que há valores ausentes nos atributos **idade**, **uf** e **renda**. \n",
        "\n"
      ],
      "metadata": {
        "id": "LBnPlvFHmVEH"
      }
    },
    {
      "cell_type": "code",
      "source": [
        "url = 'https://dados.educacao.sp.gov.br/sites/default/files/Quantidade%20de%20alunos%20por%20tipo%20de%20ensino%20da%20rede%20estadual%20-%202021.csv'\n",
        "escolas = pd.read_csv(url)\n",
        "escolas.head(20)"
      ],
      "metadata": {
        "colab": {
          "base_uri": "https://localhost:8080/",
          "height": 1000
        },
        "id": "IkJ7aj7MtSD1",
        "outputId": "d23a56ae-702a-4050-9a0f-ad5fb2b53cf9"
      },
      "execution_count": null,
      "outputs": [
        {
          "output_type": "execute_result",
          "data": {
            "text/html": [
              "\n",
              "  <div id=\"df-f141bb8e-b719-4732-b75f-cecff9bfe1fa\">\n",
              "    <div class=\"colab-df-container\">\n",
              "      <div>\n",
              "<style scoped>\n",
              "    .dataframe tbody tr th:only-of-type {\n",
              "        vertical-align: middle;\n",
              "    }\n",
              "\n",
              "    .dataframe tbody tr th {\n",
              "        vertical-align: top;\n",
              "    }\n",
              "\n",
              "    .dataframe thead th {\n",
              "        text-align: right;\n",
              "    }\n",
              "</style>\n",
              "<table border=\"1\" class=\"dataframe\">\n",
              "  <thead>\n",
              "    <tr style=\"text-align: right;\">\n",
              "      <th></th>\n",
              "      <th>CDREDE</th>\n",
              "      <th>DE</th>\n",
              "      <th>CODMUN</th>\n",
              "      <th>MUN</th>\n",
              "      <th>CATEG</th>\n",
              "      <th>COD_ESC</th>\n",
              "      <th>TIPOESC</th>\n",
              "      <th>CODVINC</th>\n",
              "      <th>NOMESC</th>\n",
              "      <th>ENDESC</th>\n",
              "      <th>NUMESC</th>\n",
              "      <th>BAIESC</th>\n",
              "      <th>EMAIL</th>\n",
              "      <th>FONE1</th>\n",
              "      <th>ZONA</th>\n",
              "      <th>ED_INFANTIL</th>\n",
              "      <th>CLASSES ESPECIAIS</th>\n",
              "      <th>SALA DE RECURSO</th>\n",
              "      <th>ANOS INICIAIS</th>\n",
              "      <th>ANOS FINAIS</th>\n",
              "      <th>ENSINO MEDIO</th>\n",
              "      <th>EJA FUNDAMENTA_AI</th>\n",
              "      <th>EJA FUNDAMENTAL_AF</th>\n",
              "      <th>EJA ENSINO MEDIO</th>\n",
              "    </tr>\n",
              "  </thead>\n",
              "  <tbody>\n",
              "    <tr>\n",
              "      <th>0</th>\n",
              "      <td>10101</td>\n",
              "      <td>NORTE 1</td>\n",
              "      <td>100</td>\n",
              "      <td>SAO PAULO</td>\n",
              "      <td>1</td>\n",
              "      <td>73</td>\n",
              "      <td>8</td>\n",
              "      <td>NaN</td>\n",
              "      <td>JULIO DE FARIA E SOUZA PROFESSOR</td>\n",
              "      <td>POMPEU PEQUENO DE SOUZA BRASIL</td>\n",
              "      <td>89</td>\n",
              "      <td>VILA FRANCOS</td>\n",
              "      <td>E000073A@EDUCACAO.SP.GOV.BR</td>\n",
              "      <td>38514186.0</td>\n",
              "      <td>1.0</td>\n",
              "      <td>0</td>\n",
              "      <td>0</td>\n",
              "      <td>0</td>\n",
              "      <td>456</td>\n",
              "      <td>0</td>\n",
              "      <td>0</td>\n",
              "      <td>0</td>\n",
              "      <td>0</td>\n",
              "      <td>0</td>\n",
              "    </tr>\n",
              "    <tr>\n",
              "      <th>1</th>\n",
              "      <td>10101</td>\n",
              "      <td>NORTE 1</td>\n",
              "      <td>100</td>\n",
              "      <td>SAO PAULO</td>\n",
              "      <td>1</td>\n",
              "      <td>127</td>\n",
              "      <td>8</td>\n",
              "      <td>NaN</td>\n",
              "      <td>JOSE ALTENFELDER SILVA PROFESSOR</td>\n",
              "      <td>CARLOS ALBERTO VANZOLINI</td>\n",
              "      <td>397</td>\n",
              "      <td>VILA DOS REMEDIOS</td>\n",
              "      <td>E000127A@EDUCACAO.SP.GOV.BR</td>\n",
              "      <td>36226586.0</td>\n",
              "      <td>1.0</td>\n",
              "      <td>0</td>\n",
              "      <td>0</td>\n",
              "      <td>9</td>\n",
              "      <td>717</td>\n",
              "      <td>0</td>\n",
              "      <td>0</td>\n",
              "      <td>0</td>\n",
              "      <td>0</td>\n",
              "      <td>0</td>\n",
              "    </tr>\n",
              "    <tr>\n",
              "      <th>2</th>\n",
              "      <td>10101</td>\n",
              "      <td>NORTE 1</td>\n",
              "      <td>100</td>\n",
              "      <td>SAO PAULO</td>\n",
              "      <td>1</td>\n",
              "      <td>139</td>\n",
              "      <td>8</td>\n",
              "      <td>NaN</td>\n",
              "      <td>MARIANO DE OLIVEIRA PROFESSOR</td>\n",
              "      <td>RUA ALMIRANTE ISAIAS DE NORONHA</td>\n",
              "      <td>13</td>\n",
              "      <td>VILA PEREIRA BARRETO</td>\n",
              "      <td>E000139A@EDUCACAO.SP.GOV.BR</td>\n",
              "      <td>39757083.0</td>\n",
              "      <td>1.0</td>\n",
              "      <td>0</td>\n",
              "      <td>0</td>\n",
              "      <td>0</td>\n",
              "      <td>0</td>\n",
              "      <td>372</td>\n",
              "      <td>1200</td>\n",
              "      <td>0</td>\n",
              "      <td>0</td>\n",
              "      <td>240</td>\n",
              "    </tr>\n",
              "    <tr>\n",
              "      <th>3</th>\n",
              "      <td>10101</td>\n",
              "      <td>NORTE 1</td>\n",
              "      <td>100</td>\n",
              "      <td>SAO PAULO</td>\n",
              "      <td>1</td>\n",
              "      <td>164</td>\n",
              "      <td>8</td>\n",
              "      <td>NaN</td>\n",
              "      <td>PIO TELLES PEIXOTO PROFESSOR</td>\n",
              "      <td>ARTUR ORLANDO</td>\n",
              "      <td>985</td>\n",
              "      <td>VILA JAGUARA</td>\n",
              "      <td>E000164A@EDUCACAO.SP.GOV.BR</td>\n",
              "      <td>36225997.0</td>\n",
              "      <td>1.0</td>\n",
              "      <td>0</td>\n",
              "      <td>0</td>\n",
              "      <td>10</td>\n",
              "      <td>0</td>\n",
              "      <td>251</td>\n",
              "      <td>336</td>\n",
              "      <td>0</td>\n",
              "      <td>0</td>\n",
              "      <td>63</td>\n",
              "    </tr>\n",
              "    <tr>\n",
              "      <th>4</th>\n",
              "      <td>10101</td>\n",
              "      <td>NORTE 1</td>\n",
              "      <td>100</td>\n",
              "      <td>SAO PAULO</td>\n",
              "      <td>1</td>\n",
              "      <td>231</td>\n",
              "      <td>8</td>\n",
              "      <td>NaN</td>\n",
              "      <td>CHIQUINHA RODRIGUES</td>\n",
              "      <td>CAIAPE</td>\n",
              "      <td>SN</td>\n",
              "      <td>VILA PENTEADO</td>\n",
              "      <td>E000231A@EDUCACAO.SP.GOV.BR</td>\n",
              "      <td>38510101.0</td>\n",
              "      <td>1.0</td>\n",
              "      <td>0</td>\n",
              "      <td>3</td>\n",
              "      <td>28</td>\n",
              "      <td>987</td>\n",
              "      <td>0</td>\n",
              "      <td>0</td>\n",
              "      <td>0</td>\n",
              "      <td>0</td>\n",
              "      <td>0</td>\n",
              "    </tr>\n",
              "    <tr>\n",
              "      <th>5</th>\n",
              "      <td>10101</td>\n",
              "      <td>NORTE 1</td>\n",
              "      <td>100</td>\n",
              "      <td>SAO PAULO</td>\n",
              "      <td>1</td>\n",
              "      <td>243</td>\n",
              "      <td>8</td>\n",
              "      <td>NaN</td>\n",
              "      <td>ISABEL VIEIRA DE SERPA E PAIVA PROFESSORA</td>\n",
              "      <td>JERIMANDUBA</td>\n",
              "      <td>561</td>\n",
              "      <td>JARAGUA</td>\n",
              "      <td>E000243A@EDUCACAO.SP.GOV.BR</td>\n",
              "      <td>39411734.0</td>\n",
              "      <td>1.0</td>\n",
              "      <td>0</td>\n",
              "      <td>0</td>\n",
              "      <td>28</td>\n",
              "      <td>462</td>\n",
              "      <td>0</td>\n",
              "      <td>0</td>\n",
              "      <td>0</td>\n",
              "      <td>0</td>\n",
              "      <td>0</td>\n",
              "    </tr>\n",
              "    <tr>\n",
              "      <th>6</th>\n",
              "      <td>10101</td>\n",
              "      <td>NORTE 1</td>\n",
              "      <td>100</td>\n",
              "      <td>SAO PAULO</td>\n",
              "      <td>1</td>\n",
              "      <td>395</td>\n",
              "      <td>8</td>\n",
              "      <td>NaN</td>\n",
              "      <td>JOAQUIM LUIZ DE BRITO PROFESSOR</td>\n",
              "      <td>RUA SANTA LUCIA FILIPPINI</td>\n",
              "      <td>65</td>\n",
              "      <td>ITABERABA</td>\n",
              "      <td>E000395A@EDUCACAO.SP.GOV.BR</td>\n",
              "      <td>39752467.0</td>\n",
              "      <td>1.0</td>\n",
              "      <td>0</td>\n",
              "      <td>0</td>\n",
              "      <td>0</td>\n",
              "      <td>0</td>\n",
              "      <td>280</td>\n",
              "      <td>413</td>\n",
              "      <td>0</td>\n",
              "      <td>0</td>\n",
              "      <td>157</td>\n",
              "    </tr>\n",
              "    <tr>\n",
              "      <th>7</th>\n",
              "      <td>10101</td>\n",
              "      <td>NORTE 1</td>\n",
              "      <td>100</td>\n",
              "      <td>SAO PAULO</td>\n",
              "      <td>1</td>\n",
              "      <td>644</td>\n",
              "      <td>8</td>\n",
              "      <td>NaN</td>\n",
              "      <td>PIO XII</td>\n",
              "      <td>OTAVIO DOMINGUITO</td>\n",
              "      <td>50</td>\n",
              "      <td>PIQUERI</td>\n",
              "      <td>E000644A@EDUCACAO.SP.GOV.BR</td>\n",
              "      <td>39764189.0</td>\n",
              "      <td>1.0</td>\n",
              "      <td>0</td>\n",
              "      <td>0</td>\n",
              "      <td>0</td>\n",
              "      <td>322</td>\n",
              "      <td>0</td>\n",
              "      <td>0</td>\n",
              "      <td>0</td>\n",
              "      <td>0</td>\n",
              "      <td>0</td>\n",
              "    </tr>\n",
              "    <tr>\n",
              "      <th>8</th>\n",
              "      <td>10101</td>\n",
              "      <td>NORTE 1</td>\n",
              "      <td>100</td>\n",
              "      <td>SAO PAULO</td>\n",
              "      <td>1</td>\n",
              "      <td>36959</td>\n",
              "      <td>8</td>\n",
              "      <td>NaN</td>\n",
              "      <td>MANUEL BANDEIRA</td>\n",
              "      <td>JULIO CESAR LEAL</td>\n",
              "      <td>15</td>\n",
              "      <td>VILA PERUS</td>\n",
              "      <td>E036959A@EDUCACAO.SP.GOV.BR</td>\n",
              "      <td>39156911.0</td>\n",
              "      <td>1.0</td>\n",
              "      <td>0</td>\n",
              "      <td>0</td>\n",
              "      <td>0</td>\n",
              "      <td>0</td>\n",
              "      <td>432</td>\n",
              "      <td>997</td>\n",
              "      <td>0</td>\n",
              "      <td>0</td>\n",
              "      <td>147</td>\n",
              "    </tr>\n",
              "    <tr>\n",
              "      <th>9</th>\n",
              "      <td>10101</td>\n",
              "      <td>NORTE 1</td>\n",
              "      <td>100</td>\n",
              "      <td>SAO PAULO</td>\n",
              "      <td>1</td>\n",
              "      <td>37655</td>\n",
              "      <td>8</td>\n",
              "      <td>NaN</td>\n",
              "      <td>UBALDO COSTA LEITE DOUTOR</td>\n",
              "      <td>JOSE DA COSTA PEREIRA</td>\n",
              "      <td>70</td>\n",
              "      <td>JARDIM GUARANI</td>\n",
              "      <td>E037655A@EDUCACAO.SP.GOV.BR</td>\n",
              "      <td>38513890.0</td>\n",
              "      <td>1.0</td>\n",
              "      <td>0</td>\n",
              "      <td>0</td>\n",
              "      <td>0</td>\n",
              "      <td>0</td>\n",
              "      <td>573</td>\n",
              "      <td>714</td>\n",
              "      <td>0</td>\n",
              "      <td>0</td>\n",
              "      <td>0</td>\n",
              "    </tr>\n",
              "    <tr>\n",
              "      <th>10</th>\n",
              "      <td>10101</td>\n",
              "      <td>NORTE 1</td>\n",
              "      <td>100</td>\n",
              "      <td>SAO PAULO</td>\n",
              "      <td>1</td>\n",
              "      <td>37709</td>\n",
              "      <td>8</td>\n",
              "      <td>NaN</td>\n",
              "      <td>CARLOS FREDERICO WERNECK LACERDA JORNALISTA</td>\n",
              "      <td>CONCEICAO DO NORTE</td>\n",
              "      <td>906</td>\n",
              "      <td>VILA ZAT</td>\n",
              "      <td>E037709A@EDUCACAO.SP.GOV.BR</td>\n",
              "      <td>39719167.0</td>\n",
              "      <td>1.0</td>\n",
              "      <td>0</td>\n",
              "      <td>0</td>\n",
              "      <td>0</td>\n",
              "      <td>0</td>\n",
              "      <td>414</td>\n",
              "      <td>525</td>\n",
              "      <td>0</td>\n",
              "      <td>0</td>\n",
              "      <td>267</td>\n",
              "    </tr>\n",
              "    <tr>\n",
              "      <th>11</th>\n",
              "      <td>10101</td>\n",
              "      <td>NORTE 1</td>\n",
              "      <td>100</td>\n",
              "      <td>SAO PAULO</td>\n",
              "      <td>1</td>\n",
              "      <td>38097</td>\n",
              "      <td>8</td>\n",
              "      <td>NaN</td>\n",
              "      <td>ITALO BETARELLO</td>\n",
              "      <td>ANDRESA</td>\n",
              "      <td>120</td>\n",
              "      <td>JARDIM SAO JOAO JARAGUA</td>\n",
              "      <td>E038097A@EDUCACAO.SP.GOV.BR</td>\n",
              "      <td>39414746.0</td>\n",
              "      <td>1.0</td>\n",
              "      <td>0</td>\n",
              "      <td>0</td>\n",
              "      <td>20</td>\n",
              "      <td>0</td>\n",
              "      <td>670</td>\n",
              "      <td>823</td>\n",
              "      <td>0</td>\n",
              "      <td>0</td>\n",
              "      <td>0</td>\n",
              "    </tr>\n",
              "    <tr>\n",
              "      <th>12</th>\n",
              "      <td>10101</td>\n",
              "      <td>NORTE 1</td>\n",
              "      <td>100</td>\n",
              "      <td>SAO PAULO</td>\n",
              "      <td>1</td>\n",
              "      <td>40460</td>\n",
              "      <td>8</td>\n",
              "      <td>NaN</td>\n",
              "      <td>OSMAR BASTOS CONCEICAO PROFESSOR</td>\n",
              "      <td>PINHEIRO DE FARIA</td>\n",
              "      <td>40</td>\n",
              "      <td>JARDIM MARISTELA</td>\n",
              "      <td>E040460A@EDUCACAO.SP.GOV.BR</td>\n",
              "      <td>39751500.0</td>\n",
              "      <td>1.0</td>\n",
              "      <td>0</td>\n",
              "      <td>0</td>\n",
              "      <td>0</td>\n",
              "      <td>482</td>\n",
              "      <td>0</td>\n",
              "      <td>0</td>\n",
              "      <td>0</td>\n",
              "      <td>0</td>\n",
              "      <td>0</td>\n",
              "    </tr>\n",
              "    <tr>\n",
              "      <th>13</th>\n",
              "      <td>10101</td>\n",
              "      <td>NORTE 1</td>\n",
              "      <td>100</td>\n",
              "      <td>SAO PAULO</td>\n",
              "      <td>1</td>\n",
              "      <td>44261</td>\n",
              "      <td>8</td>\n",
              "      <td>NaN</td>\n",
              "      <td>ZORAIDE DE CAMPOS HELU PROFESSORA</td>\n",
              "      <td>GIOVANI PALADINO</td>\n",
              "      <td>76</td>\n",
              "      <td>JARDIM JARAGUA</td>\n",
              "      <td>E044261A@EDUCACAO.SP.GOV.BR</td>\n",
              "      <td>39166323.0</td>\n",
              "      <td>1.0</td>\n",
              "      <td>0</td>\n",
              "      <td>0</td>\n",
              "      <td>0</td>\n",
              "      <td>234</td>\n",
              "      <td>129</td>\n",
              "      <td>206</td>\n",
              "      <td>0</td>\n",
              "      <td>0</td>\n",
              "      <td>0</td>\n",
              "    </tr>\n",
              "    <tr>\n",
              "      <th>14</th>\n",
              "      <td>10101</td>\n",
              "      <td>NORTE 1</td>\n",
              "      <td>100</td>\n",
              "      <td>SAO PAULO</td>\n",
              "      <td>1</td>\n",
              "      <td>46255</td>\n",
              "      <td>8</td>\n",
              "      <td>NaN</td>\n",
              "      <td>CARLOS BORBA PROFESSOR</td>\n",
              "      <td>RUA JOANA PEDROSO DOS SANTOS</td>\n",
              "      <td>101</td>\n",
              "      <td>JARDIM RODRIGO</td>\n",
              "      <td>E046255A@EDUCACAO.SP.GOV.BR</td>\n",
              "      <td>39411130.0</td>\n",
              "      <td>1.0</td>\n",
              "      <td>0</td>\n",
              "      <td>0</td>\n",
              "      <td>0</td>\n",
              "      <td>749</td>\n",
              "      <td>0</td>\n",
              "      <td>0</td>\n",
              "      <td>0</td>\n",
              "      <td>0</td>\n",
              "      <td>354</td>\n",
              "    </tr>\n",
              "    <tr>\n",
              "      <th>15</th>\n",
              "      <td>10101</td>\n",
              "      <td>NORTE 1</td>\n",
              "      <td>100</td>\n",
              "      <td>SAO PAULO</td>\n",
              "      <td>1</td>\n",
              "      <td>46267</td>\n",
              "      <td>8</td>\n",
              "      <td>NaN</td>\n",
              "      <td>JOAO NOGUEIRA LOTUFO PROFESSOR</td>\n",
              "      <td>JOSE MARCOS DE ALBUQUERQUE</td>\n",
              "      <td>18</td>\n",
              "      <td>JARDIM SANTA MONICA</td>\n",
              "      <td>E046267A@EDUCACAO.SP.GOV.BR</td>\n",
              "      <td>39014814.0</td>\n",
              "      <td>1.0</td>\n",
              "      <td>0</td>\n",
              "      <td>0</td>\n",
              "      <td>5</td>\n",
              "      <td>455</td>\n",
              "      <td>0</td>\n",
              "      <td>0</td>\n",
              "      <td>0</td>\n",
              "      <td>0</td>\n",
              "      <td>0</td>\n",
              "    </tr>\n",
              "    <tr>\n",
              "      <th>16</th>\n",
              "      <td>10101</td>\n",
              "      <td>NORTE 1</td>\n",
              "      <td>100</td>\n",
              "      <td>SAO PAULO</td>\n",
              "      <td>1</td>\n",
              "      <td>48598</td>\n",
              "      <td>8</td>\n",
              "      <td>NaN</td>\n",
              "      <td>PAULO TRAJANO DA SILVEIRA SANTOS PROFESSOR</td>\n",
              "      <td>PRAIA DO TUMIARU</td>\n",
              "      <td>320</td>\n",
              "      <td>VILA MARINA</td>\n",
              "      <td>E048598A@EDUCACAO.SP.GOV.BR</td>\n",
              "      <td>39752901.0</td>\n",
              "      <td>1.0</td>\n",
              "      <td>0</td>\n",
              "      <td>0</td>\n",
              "      <td>4</td>\n",
              "      <td>558</td>\n",
              "      <td>0</td>\n",
              "      <td>0</td>\n",
              "      <td>0</td>\n",
              "      <td>0</td>\n",
              "      <td>0</td>\n",
              "    </tr>\n",
              "    <tr>\n",
              "      <th>17</th>\n",
              "      <td>10101</td>\n",
              "      <td>NORTE 1</td>\n",
              "      <td>100</td>\n",
              "      <td>SAO PAULO</td>\n",
              "      <td>1</td>\n",
              "      <td>72503</td>\n",
              "      <td>8</td>\n",
              "      <td>NaN</td>\n",
              "      <td>ELIZABETH APARECIDA SIMOES MESQUITA PROFESSORA</td>\n",
              "      <td>JOSE DA NATIVIDADE SALDANHA</td>\n",
              "      <td>SN</td>\n",
              "      <td>VILA PENTEADO</td>\n",
              "      <td>E072503A@EDUCACAO.SP.GOV.BR</td>\n",
              "      <td>39218613.0</td>\n",
              "      <td>1.0</td>\n",
              "      <td>0</td>\n",
              "      <td>0</td>\n",
              "      <td>0</td>\n",
              "      <td>0</td>\n",
              "      <td>407</td>\n",
              "      <td>260</td>\n",
              "      <td>0</td>\n",
              "      <td>0</td>\n",
              "      <td>0</td>\n",
              "    </tr>\n",
              "    <tr>\n",
              "      <th>18</th>\n",
              "      <td>10101</td>\n",
              "      <td>NORTE 1</td>\n",
              "      <td>100</td>\n",
              "      <td>SAO PAULO</td>\n",
              "      <td>1</td>\n",
              "      <td>130321</td>\n",
              "      <td>8</td>\n",
              "      <td>NaN</td>\n",
              "      <td>THAYANE LUZIMARA COSTA VALCACER PROFESSORA</td>\n",
              "      <td>FRIEDRICH VON VOITH</td>\n",
              "      <td>1790</td>\n",
              "      <td>JARDIM SAO JOAO JARAGUA</td>\n",
              "      <td>E130321A@EDUCACAO.SP.GOV.BR</td>\n",
              "      <td>39434428.0</td>\n",
              "      <td>1.0</td>\n",
              "      <td>0</td>\n",
              "      <td>0</td>\n",
              "      <td>0</td>\n",
              "      <td>286</td>\n",
              "      <td>319</td>\n",
              "      <td>279</td>\n",
              "      <td>0</td>\n",
              "      <td>0</td>\n",
              "      <td>0</td>\n",
              "    </tr>\n",
              "    <tr>\n",
              "      <th>19</th>\n",
              "      <td>10101</td>\n",
              "      <td>NORTE 1</td>\n",
              "      <td>100</td>\n",
              "      <td>SAO PAULO</td>\n",
              "      <td>1</td>\n",
              "      <td>130333</td>\n",
              "      <td>8</td>\n",
              "      <td>NaN</td>\n",
              "      <td>REPUBLICA DA COLOMBIA</td>\n",
              "      <td>RENDEIRA</td>\n",
              "      <td>926</td>\n",
              "      <td>JARDIM VISTA ALEGRE</td>\n",
              "      <td>E130333A@EDUCACAO.SP.GOV.BR</td>\n",
              "      <td>38596737.0</td>\n",
              "      <td>1.0</td>\n",
              "      <td>0</td>\n",
              "      <td>0</td>\n",
              "      <td>0</td>\n",
              "      <td>0</td>\n",
              "      <td>261</td>\n",
              "      <td>511</td>\n",
              "      <td>0</td>\n",
              "      <td>0</td>\n",
              "      <td>0</td>\n",
              "    </tr>\n",
              "  </tbody>\n",
              "</table>\n",
              "</div>\n",
              "      <button class=\"colab-df-convert\" onclick=\"convertToInteractive('df-f141bb8e-b719-4732-b75f-cecff9bfe1fa')\"\n",
              "              title=\"Convert this dataframe to an interactive table.\"\n",
              "              style=\"display:none;\">\n",
              "        \n",
              "  <svg xmlns=\"http://www.w3.org/2000/svg\" height=\"24px\"viewBox=\"0 0 24 24\"\n",
              "       width=\"24px\">\n",
              "    <path d=\"M0 0h24v24H0V0z\" fill=\"none\"/>\n",
              "    <path d=\"M18.56 5.44l.94 2.06.94-2.06 2.06-.94-2.06-.94-.94-2.06-.94 2.06-2.06.94zm-11 1L8.5 8.5l.94-2.06 2.06-.94-2.06-.94L8.5 2.5l-.94 2.06-2.06.94zm10 10l.94 2.06.94-2.06 2.06-.94-2.06-.94-.94-2.06-.94 2.06-2.06.94z\"/><path d=\"M17.41 7.96l-1.37-1.37c-.4-.4-.92-.59-1.43-.59-.52 0-1.04.2-1.43.59L10.3 9.45l-7.72 7.72c-.78.78-.78 2.05 0 2.83L4 21.41c.39.39.9.59 1.41.59.51 0 1.02-.2 1.41-.59l7.78-7.78 2.81-2.81c.8-.78.8-2.07 0-2.86zM5.41 20L4 18.59l7.72-7.72 1.47 1.35L5.41 20z\"/>\n",
              "  </svg>\n",
              "      </button>\n",
              "      \n",
              "  <style>\n",
              "    .colab-df-container {\n",
              "      display:flex;\n",
              "      flex-wrap:wrap;\n",
              "      gap: 12px;\n",
              "    }\n",
              "\n",
              "    .colab-df-convert {\n",
              "      background-color: #E8F0FE;\n",
              "      border: none;\n",
              "      border-radius: 50%;\n",
              "      cursor: pointer;\n",
              "      display: none;\n",
              "      fill: #1967D2;\n",
              "      height: 32px;\n",
              "      padding: 0 0 0 0;\n",
              "      width: 32px;\n",
              "    }\n",
              "\n",
              "    .colab-df-convert:hover {\n",
              "      background-color: #E2EBFA;\n",
              "      box-shadow: 0px 1px 2px rgba(60, 64, 67, 0.3), 0px 1px 3px 1px rgba(60, 64, 67, 0.15);\n",
              "      fill: #174EA6;\n",
              "    }\n",
              "\n",
              "    [theme=dark] .colab-df-convert {\n",
              "      background-color: #3B4455;\n",
              "      fill: #D2E3FC;\n",
              "    }\n",
              "\n",
              "    [theme=dark] .colab-df-convert:hover {\n",
              "      background-color: #434B5C;\n",
              "      box-shadow: 0px 1px 3px 1px rgba(0, 0, 0, 0.15);\n",
              "      filter: drop-shadow(0px 1px 2px rgba(0, 0, 0, 0.3));\n",
              "      fill: #FFFFFF;\n",
              "    }\n",
              "  </style>\n",
              "\n",
              "      <script>\n",
              "        const buttonEl =\n",
              "          document.querySelector('#df-f141bb8e-b719-4732-b75f-cecff9bfe1fa button.colab-df-convert');\n",
              "        buttonEl.style.display =\n",
              "          google.colab.kernel.accessAllowed ? 'block' : 'none';\n",
              "\n",
              "        async function convertToInteractive(key) {\n",
              "          const element = document.querySelector('#df-f141bb8e-b719-4732-b75f-cecff9bfe1fa');\n",
              "          const dataTable =\n",
              "            await google.colab.kernel.invokeFunction('convertToInteractive',\n",
              "                                                     [key], {});\n",
              "          if (!dataTable) return;\n",
              "\n",
              "          const docLinkHtml = 'Like what you see? Visit the ' +\n",
              "            '<a target=\"_blank\" href=https://colab.research.google.com/notebooks/data_table.ipynb>data table notebook</a>'\n",
              "            + ' to learn more about interactive tables.';\n",
              "          element.innerHTML = '';\n",
              "          dataTable['output_type'] = 'display_data';\n",
              "          await google.colab.output.renderOutput(dataTable, element);\n",
              "          const docLink = document.createElement('div');\n",
              "          docLink.innerHTML = docLinkHtml;\n",
              "          element.appendChild(docLink);\n",
              "        }\n",
              "      </script>\n",
              "    </div>\n",
              "  </div>\n",
              "  "
            ],
            "text/plain": [
              "    CDREDE       DE  ...  EJA FUNDAMENTAL_AF EJA ENSINO MEDIO\n",
              "0    10101  NORTE 1  ...                   0                0\n",
              "1    10101  NORTE 1  ...                   0                0\n",
              "2    10101  NORTE 1  ...                   0              240\n",
              "3    10101  NORTE 1  ...                   0               63\n",
              "4    10101  NORTE 1  ...                   0                0\n",
              "5    10101  NORTE 1  ...                   0                0\n",
              "6    10101  NORTE 1  ...                   0              157\n",
              "7    10101  NORTE 1  ...                   0                0\n",
              "8    10101  NORTE 1  ...                   0              147\n",
              "9    10101  NORTE 1  ...                   0                0\n",
              "10   10101  NORTE 1  ...                   0              267\n",
              "11   10101  NORTE 1  ...                   0                0\n",
              "12   10101  NORTE 1  ...                   0                0\n",
              "13   10101  NORTE 1  ...                   0                0\n",
              "14   10101  NORTE 1  ...                   0              354\n",
              "15   10101  NORTE 1  ...                   0                0\n",
              "16   10101  NORTE 1  ...                   0                0\n",
              "17   10101  NORTE 1  ...                   0                0\n",
              "18   10101  NORTE 1  ...                   0                0\n",
              "19   10101  NORTE 1  ...                   0                0\n",
              "\n",
              "[20 rows x 24 columns]"
            ]
          },
          "metadata": {},
          "execution_count": 3
        }
      ]
    },
    {
      "cell_type": "markdown",
      "source": [
        "4. A função **info()**) mostra que há 5351 registros para a maioria dos atributos, portanto é o número de escolas."
      ],
      "metadata": {
        "id": "Gx7qDSMx8tyE"
      }
    },
    {
      "cell_type": "code",
      "source": [
        "escolas.info()"
      ],
      "metadata": {
        "id": "JsBYPv49y0_i",
        "colab": {
          "base_uri": "https://localhost:8080/"
        },
        "outputId": "331c2762-fd65-4374-f915-0694c9bed402"
      },
      "execution_count": null,
      "outputs": [
        {
          "output_type": "stream",
          "name": "stdout",
          "text": [
            "<class 'pandas.core.frame.DataFrame'>\n",
            "RangeIndex: 5351 entries, 0 to 5350\n",
            "Data columns (total 24 columns):\n",
            " #   Column              Non-Null Count  Dtype  \n",
            "---  ------              --------------  -----  \n",
            " 0   CDREDE              5351 non-null   int64  \n",
            " 1   DE                  5351 non-null   object \n",
            " 2   CODMUN              5351 non-null   int64  \n",
            " 3   MUN                 5351 non-null   object \n",
            " 4   CATEG               5351 non-null   int64  \n",
            " 5   COD_ESC             5351 non-null   int64  \n",
            " 6   TIPOESC             5351 non-null   int64  \n",
            " 7   CODVINC             259 non-null    float64\n",
            " 8   NOMESC              5351 non-null   object \n",
            " 9   ENDESC              5351 non-null   object \n",
            " 10  NUMESC              5327 non-null   object \n",
            " 11  BAIESC              5348 non-null   object \n",
            " 12  EMAIL               5273 non-null   object \n",
            " 13  FONE1               5328 non-null   float64\n",
            " 14  ZONA                5350 non-null   float64\n",
            " 15  ED_INFANTIL         5351 non-null   int64  \n",
            " 16  CLASSES ESPECIAIS   5351 non-null   int64  \n",
            " 17  SALA DE RECURSO     5351 non-null   int64  \n",
            " 18  ANOS INICIAIS       5351 non-null   int64  \n",
            " 19  ANOS FINAIS         5351 non-null   int64  \n",
            " 20  ENSINO MEDIO        5351 non-null   int64  \n",
            " 21  EJA FUNDAMENTA_AI   5351 non-null   int64  \n",
            " 22  EJA FUNDAMENTAL_AF  5351 non-null   int64  \n",
            " 23  EJA ENSINO MEDIO    5351 non-null   int64  \n",
            "dtypes: float64(3), int64(14), object(7)\n",
            "memory usage: 1003.4+ KB\n"
          ]
        }
      ]
    },
    {
      "cell_type": "markdown",
      "source": [
        "### Distribuição de frequências\n",
        "\n",
        "5. Vamos observar a distribuição de alguns atributos, gerando o histograma do atributo **ANOS INICIAIS** com a função **displot()**. "
      ],
      "metadata": {
        "id": "NwjcqMS4N-mD"
      }
    },
    {
      "cell_type": "code",
      "source": [
        "sb.displot(escolas['ANOS INICIAIS'])\n",
        "plt.show()"
      ],
      "metadata": {
        "colab": {
          "base_uri": "https://localhost:8080/",
          "height": 365
        },
        "id": "qpmBtu0uQhNA",
        "outputId": "830b3e91-8e19-4fad-c960-2fb935da8e52"
      },
      "execution_count": null,
      "outputs": [
        {
          "output_type": "display_data",
          "data": {
            "image/png": "[encoded data removed]",
            "text/plain": [
              "<Figure size 360x360 with 1 Axes>"
            ]
          },
          "metadata": {}
        }
      ]
    },
    {
      "cell_type": "markdown",
      "source": [
        "6. Os dados têm muitos valores 0 no campo **ANOS INICIAIS** porque há escolas que têm somente os anos finais do fundamental, outras têm somente ensino médio etc. Vamos filtrar os dados e ver novamente selecionando o valor de 10 pastas para o histograma."
      ],
      "metadata": {
        "id": "vBQd56opXr4s"
      }
    },
    {
      "cell_type": "code",
      "source": [
        "filtro_escolas = escolas[escolas['ANOS INICIAIS'] > 0]\n",
        "sb.displot(filtro_escolas['ANOS INICIAIS'],bins=10)\n",
        "plt.show()"
      ],
      "metadata": {
        "colab": {
          "base_uri": "https://localhost:8080/",
          "height": 365
        },
        "id": "pM14yqrNWDjg",
        "outputId": "cbd85fcf-f070-4f99-8db0-ec520dc0639f"
      },
      "execution_count": null,
      "outputs": [
        {
          "output_type": "display_data",
          "data": {
            "image/png": "[encoded data removed]",
            "text/plain": [
              "<Figure size 360x360 with 1 Axes>"
            ]
          },
          "metadata": {}
        }
      ]
    },
    {
      "cell_type": "markdown",
      "source": [
        "7. Vamos olhar o atributo **ANOS FINAIS**, já filtrando escolas sem alunos destes anos."
      ],
      "metadata": {
        "id": "p5yJj5TDYllT"
      }
    },
    {
      "cell_type": "code",
      "source": [
        "filtro_escolas = escolas[escolas['ANOS FINAIS'] > 0]\n",
        "sb.displot(filtro_escolas['ANOS FINAIS'],bins=10)\n",
        "plt.show()"
      ],
      "metadata": {
        "colab": {
          "base_uri": "https://localhost:8080/",
          "height": 365
        },
        "id": "uvn1m7xWfWWe",
        "outputId": "16baa306-ed6e-4d11-f8a7-c6f61133f11e"
      },
      "execution_count": null,
      "outputs": [
        {
          "output_type": "display_data",
          "data": {
            "image/png": "[encoded data removed]",
            "text/plain": [
              "<Figure size 360x360 with 1 Axes>"
            ]
          },
          "metadata": {}
        }
      ]
    },
    {
      "cell_type": "markdown",
      "source": [
        "8. Para o atributo **ENSINO MEDIO** faremos igual."
      ],
      "metadata": {
        "id": "PjKB6r72ft6j"
      }
    },
    {
      "cell_type": "code",
      "source": [
        "filtro_escolas = escolas[escolas['ENSINO MEDIO'] > 0]\n",
        "sb.displot(filtro_escolas['ENSINO MEDIO'],bins=10)\n",
        "plt.show()"
      ],
      "metadata": {
        "colab": {
          "base_uri": "https://localhost:8080/",
          "height": 365
        },
        "id": "oXU796qmf3K6",
        "outputId": "fe461c95-8f93-436c-87e2-03f04487df0d"
      },
      "execution_count": null,
      "outputs": [
        {
          "output_type": "display_data",
          "data": {
            "image/png": "[encoded data removed]",
            "text/plain": [
              "<Figure size 360x360 with 1 Axes>"
            ]
          },
          "metadata": {}
        }
      ]
    },
    {
      "cell_type": "markdown",
      "source": [
        "Podemos observar que a maioria das escolas nas três faixas de ensino tem uma maior concentração de estudantes na faixa de 250 a 500 alunos."
      ],
      "metadata": {
        "id": "C8m44EQsguRM"
      }
    },
    {
      "cell_type": "markdown",
      "source": [
        "9. Que tal agora olharmos a proporção de alunos no ensino regular dos anos iniciais e finais do fundamental e do ensino médio? \n",
        "\n",
        "Vamos somar o total de alunos matriculados em cada período e gerar um gráfico de setores usando a função **pie()** do mattplotlib.\n",
        "\n",
        "O total de alunos desses períodos é de mais de 3.3 milhões."
      ],
      "metadata": {
        "id": "MA7XNt0shpwJ"
      }
    },
    {
      "cell_type": "code",
      "source": [
        "fundamental_iniciais = escolas['ANOS INICIAIS'].sum()\n",
        "fundamental_finais = escolas['ANOS FINAIS'].sum()\n",
        "medio = escolas['ENSINO MEDIO'].sum()\n",
        "(fundamental_iniciais + fundamental_finais + medio)"
      ],
      "metadata": {
        "colab": {
          "base_uri": "https://localhost:8080/"
        },
        "id": "XqttJTC5kGj-",
        "outputId": "2648381a-56e0-4d9c-f3f7-4650eb297147"
      },
      "execution_count": null,
      "outputs": [
        {
          "output_type": "execute_result",
          "data": {
            "text/plain": [
              "3319779"
            ]
          },
          "metadata": {},
          "execution_count": 12
        }
      ]
    },
    {
      "cell_type": "markdown",
      "source": [
        "A soma dos valores de cada um dos três períodos serão os dados passados como uma lista **alunos** para a função **pie**. Vamos passar também os rótulos para identificar os dados como uma lista **periodo**. O parâmetro **autopct** coloca os percentuais dos dados no gráfico no formato desejado."
      ],
      "metadata": {
        "id": "W4kbFxPJswO2"
      }
    },
    {
      "cell_type": "code",
      "source": [
        "alunos = [fundamental_iniciais,fundamental_finais,medio]\n",
        "periodo = ['fundamental anos iniciais', 'fundamental anos finais', 'ensino medio']\n",
        "\n",
        "plt.pie(alunos,labels=periodo,autopct = '%0.0f%%')\n",
        "plt.show()"
      ],
      "metadata": {
        "colab": {
          "base_uri": "https://localhost:8080/",
          "height": 466
        },
        "id": "zQqJyXBKsxs5",
        "outputId": "13b1d1a8-7e04-4346-80cf-981813b803ba"
      },
      "execution_count": null,
      "outputs": [
        {
          "output_type": "display_data",
          "data": {
            "image/png": "[encoded data removed]",
            "text/plain": [
              "<Figure size 1080x576 with 1 Axes>"
            ]
          },
          "metadata": {}
        }
      ]
    },
    {
      "cell_type": "markdown",
      "source": [
        "Assim, vemos que as maiores concentrações de alunos do ensino público estadual são do ensino fundamentais nos anos finais, seguido de perto pelos alunos do ensino médio.\n",
        "\n",
        "Para simplificar o exemplo, não estamos considerando aqui os alunos do EJA (ensino de jovens e adultos) nem os alunos do ensino infantil."
      ],
      "metadata": {
        "id": "dC7WTBWGrEbe"
      }
    },
    {
      "cell_type": "markdown",
      "source": [
        "### Posição relativa\n",
        "\n",
        "10. Vamos seguir olhando as medidas de posição relativa dos dados usando o diagrama de caixa (gráfico boxplot) do ensino médio."
      ],
      "metadata": {
        "id": "vt5W3yUQv_IC"
      }
    },
    {
      "cell_type": "code",
      "source": [
        "filtro_escolas = escolas[escolas['ENSINO MEDIO'] > 0]\n",
        "sb.boxplot(y=filtro_escolas['ENSINO MEDIO'])\n",
        "plt.show()"
      ],
      "metadata": {
        "colab": {
          "base_uri": "https://localhost:8080/",
          "height": 466
        },
        "id": "tQ8nq57Zimd0",
        "outputId": "66f4ea61-4d4a-4ac9-f3b1-08452c5c52c6"
      },
      "execution_count": null,
      "outputs": [
        {
          "output_type": "display_data",
          "data": {
            "image/png": "[encoded data removed]",
            "text/plain": [
              "<Figure size 1080x576 with 1 Axes>"
            ]
          },
          "metadata": {}
        }
      ]
    },
    {
      "cell_type": "markdown",
      "source": [
        "O boxplot nos mostra que há uma grande concentração de escolas com aproximadamente de 200 a 500 estudantes do ensino médio."
      ],
      "metadata": {
        "id": "EIsA1LaZYpxs"
      }
    },
    {
      "cell_type": "markdown",
      "source": [
        "### Tendência central e dispersão\n",
        "\n",
        "11. A seguir, podemos ver as medidas de tendência central e dispersão desses dados com a função **describe()**, olhando a distribuição desses dados. Por exemplo, a média (mean) de alunos dos anos finais do ensino fundamental por escola é de ~257, com desvio padrão de 234,97. Podemos ver também os valores dos quartis para esse atributo."
      ],
      "metadata": {
        "id": "QMJ4TLWd-4y2"
      }
    },
    {
      "cell_type": "code",
      "source": [
        "escolas['ANOS FINAIS'].describe()"
      ],
      "metadata": {
        "colab": {
          "base_uri": "https://localhost:8080/"
        },
        "id": "fpVzouxc8oS8",
        "outputId": "7942209f-5d5c-47fb-e00f-30943378fba0"
      },
      "execution_count": null,
      "outputs": [
        {
          "output_type": "execute_result",
          "data": {
            "text/plain": [
              "count    5351.000000\n",
              "mean      257.373388\n",
              "std       234.971969\n",
              "min         0.000000\n",
              "25%         0.000000\n",
              "50%       253.000000\n",
              "75%       410.500000\n",
              "max      1467.000000\n",
              "Name: ANOS FINAIS, dtype: float64"
            ]
          },
          "metadata": {},
          "execution_count": 36
        }
      ]
    },
    {
      "cell_type": "markdown",
      "source": [
        "12. Vamos agora olhar se há alguma correlação entre atributos desses dados?\n",
        "Para isso vamos usar o gráfico de dispersão para comparar os atributos com a quantidade de alunos das escolas com estudantes do ensino fundamental dos anos iniciais e finais. \n",
        "Primeiro, filtramos escolas cujo número de estudantes seja maior que zero em ambos os casos. Depois, usamos a função **scatterplot()** para plotar os dados."
      ],
      "metadata": {
        "id": "v8uoJ7vDtbAN"
      }
    },
    {
      "cell_type": "code",
      "source": [
        "filtro_escolas = escolas[(escolas['ANOS INICIAIS'] > 0) & (escolas['ANOS FINAIS'] > 0)]\n",
        "sb.scatterplot(x=filtro_escolas['ANOS INICIAIS'],y=filtro_escolas['ANOS FINAIS'])\n",
        "plt.show()"
      ],
      "metadata": {
        "colab": {
          "base_uri": "https://localhost:8080/",
          "height": 502
        },
        "id": "LXsO279jwAp6",
        "outputId": "c3a343e9-c907-4851-81ff-c4eebaa3bd88"
      },
      "execution_count": null,
      "outputs": [
        {
          "output_type": "display_data",
          "data": {
            "image/png": "[encoded data removed]",
            "text/plain": [
              "<Figure size 1080x576 with 1 Axes>"
            ]
          },
          "metadata": {}
        }
      ]
    },
    {
      "cell_type": "markdown",
      "source": [
        "Embora haja alguma dispersão pelo gráfico, podemos ver uma grande concentração de escolas de ambos os períodos de ensino fundamental na faixa entre 1 e 600 estudantes, mostrando uma correlação positiva. Isso faz sentido, visto que filtramos escolas que abrigam os dois períodos de ensino e que, portanto, têm uma capacidade proporcional de alocar esses estudantes. Além do mais, a quantidade de estudantes tende a ser proporcional ao local na qual elas estão."
      ],
      "metadata": {
        "id": "hnCgsT16jg10"
      }
    },
    {
      "cell_type": "markdown",
      "source": [
        "Com isso, concluímos o exercício de análise descritiva de dados desta semana. \n",
        "Para praticar mais, sugiro que você escolha um outro conjunto de dados do seu interesse e use ADD para conhecer melhor as características dos dados.\n",
        "\n",
        "Algumas sugestões de bases são: \n",
        "\n",
        "* [Portal Brasileiro de Dados Abertos](https://dados.gov.br/)\n",
        "* [Basedosdados.org](https://basedosdados.org/)\n",
        "* [Kaggle](https://www.kaggle.com/datasets)"
      ],
      "metadata": {
        "id": "qykUYJwjZYjG"
      }
    },
    {
      "cell_type": "code",
      "source": [
        ""
      ],
      "metadata": {
        "id": "U93TbRNNNfvd"
      },
      "execution_count": null,
      "outputs": []
    }
  ]
}