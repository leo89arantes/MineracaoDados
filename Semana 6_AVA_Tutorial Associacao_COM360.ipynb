{
  "nbformat": 4,
  "nbformat_minor": 0,
  "metadata": {
    "colab": {
      "name": "semana-6-tutorial-associacao.ipynb",
      "provenance": [],
      "collapsed_sections": []
    },
    "kernelspec": {
      "name": "python3",
      "display_name": "Python 3"
    },
    "language_info": {
      "name": "python"
    }
  },
  "cells": [
    {
      "cell_type": "markdown",
      "source": [
        "## Mineração de dados - Semana 6: \n",
        "\n",
        "### Exercício sobre regras de associação\n",
        "\n",
        "Neste exercício, usaremos o algoritmo **Apriori** em uma base de dados contendo transações de compra em um supermercado.\n",
        "\n",
        "Dados:\n",
        "\n",
        "* Cada linha representa uma transação e cada coluna corresponde a um produto comprado. As células contém uma sequência dos produtos comprados em cada transação, caso contrário o valor é nulo.\n",
        "\n",
        "Os dados foram obtidos do [Kaggle](https://www.kaggle.com/code/timothyabwao/market-basket-analysis-using-the-apriori-algorithm/data) e estão disponíveis neste [link](https://raw.githubusercontent.com/higoramario/univesp-com360-mineracao-dados/main/market-basket-optimisation.csv)."
      ],
      "metadata": {
        "id": "5oxNW8e7rws3"
      }
    },
    {
      "cell_type": "markdown",
      "source": [
        "1. Crie um novo notebook e inclua uma descrição para ele. \n",
        "\n",
        "2. Nesta atividade, além da bibliotecas **pandas** e **numpy**, vamos importar as bibliotecas **apyori** para usar o algoritmo apriori, e a **matplotlib** para gerar gráficos."
      ],
      "metadata": {
        "id": "FndwWC_Nn2KZ"
      }
    },
    {
      "cell_type": "code",
      "execution_count": null,
      "metadata": {
        "id": "NUj8NkxkrIfY"
      },
      "outputs": [],
      "source": [
        "import pandas as pd\n",
        "import matplotlib.pyplot as plt\n",
        "import numpy as np\n",
        "plt.rcParams[\"figure.figsize\"] = (15,10)"
      ]
    },
    {
      "cell_type": "markdown",
      "source": [
        "3. Instale e importe a biblioteca apyori"
      ],
      "metadata": {
        "id": "oAssFGkvrgps"
      }
    },
    {
      "cell_type": "code",
      "source": [
        "!pip -qq install apyori\n",
        "import apyori"
      ],
      "metadata": {
        "id": "lsf3kThRrUmH",
        "colab": {
          "base_uri": "https://localhost:8080/"
        },
        "outputId": "bb86571e-1baf-4a01-e8e5-74569fc85455"
      },
      "execution_count": null,
      "outputs": [
        {
          "output_type": "stream",
          "name": "stdout",
          "text": [
            "  Building wheel for apyori (setup.py) ... \u001b[?25l\u001b[?25hdone\n"
          ]
        }
      ]
    },
    {
      "cell_type": "markdown",
      "source": [
        "4. Importando a base de dados.\n",
        "\n",
        "  Cada objeto representa uma compra ou transação, e contém o nome de um ou mais produtos que fazem parte da compra."
      ],
      "metadata": {
        "id": "ENhiuG6Jp6Mt"
      }
    },
    {
      "cell_type": "code",
      "source": [
        "url = 'https://raw.githubusercontent.com/higoramario/univesp-com360-mineracao-dados/main/market-basket-optimisation.csv'\n",
        "mercado = pd.read_csv(url, header=None)\n",
        "mercado.head(10)"
      ],
      "metadata": {
        "colab": {
          "base_uri": "https://localhost:8080/",
          "height": 407
        },
        "id": "oHc2KWfcr9mV",
        "outputId": "b089e0c0-9737-4952-94cf-6b22396013ca"
      },
      "execution_count": null,
      "outputs": [
        {
          "output_type": "execute_result",
          "data": {
            "text/plain": [
              "                  0             1           2                 3   \\\n",
              "0             shrimp       almonds     avocado    vegetables mix   \n",
              "1            burgers     meatballs        eggs               NaN   \n",
              "2            chutney           NaN         NaN               NaN   \n",
              "3             turkey       avocado         NaN               NaN   \n",
              "4      mineral water          milk  energy bar  whole wheat rice   \n",
              "5     low fat yogurt           NaN         NaN               NaN   \n",
              "6  whole wheat pasta  french fries         NaN               NaN   \n",
              "7               soup   light cream     shallot               NaN   \n",
              "8  frozen vegetables     spaghetti   green tea               NaN   \n",
              "9       french fries           NaN         NaN               NaN   \n",
              "\n",
              "             4                 5     6               7             8   \\\n",
              "0  green grapes  whole weat flour  yams  cottage cheese  energy drink   \n",
              "1           NaN               NaN   NaN             NaN           NaN   \n",
              "2           NaN               NaN   NaN             NaN           NaN   \n",
              "3           NaN               NaN   NaN             NaN           NaN   \n",
              "4     green tea               NaN   NaN             NaN           NaN   \n",
              "5           NaN               NaN   NaN             NaN           NaN   \n",
              "6           NaN               NaN   NaN             NaN           NaN   \n",
              "7           NaN               NaN   NaN             NaN           NaN   \n",
              "8           NaN               NaN   NaN             NaN           NaN   \n",
              "9           NaN               NaN   NaN             NaN           NaN   \n",
              "\n",
              "             9               10         11     12     13             14  \\\n",
              "0  tomato juice  low fat yogurt  green tea  honey  salad  mineral water   \n",
              "1           NaN             NaN        NaN    NaN    NaN            NaN   \n",
              "2           NaN             NaN        NaN    NaN    NaN            NaN   \n",
              "3           NaN             NaN        NaN    NaN    NaN            NaN   \n",
              "4           NaN             NaN        NaN    NaN    NaN            NaN   \n",
              "5           NaN             NaN        NaN    NaN    NaN            NaN   \n",
              "6           NaN             NaN        NaN    NaN    NaN            NaN   \n",
              "7           NaN             NaN        NaN    NaN    NaN            NaN   \n",
              "8           NaN             NaN        NaN    NaN    NaN            NaN   \n",
              "9           NaN             NaN        NaN    NaN    NaN            NaN   \n",
              "\n",
              "       15                 16               17       18         19  \n",
              "0  salmon  antioxydant juice  frozen smoothie  spinach  olive oil  \n",
              "1     NaN                NaN              NaN      NaN        NaN  \n",
              "2     NaN                NaN              NaN      NaN        NaN  \n",
              "3     NaN                NaN              NaN      NaN        NaN  \n",
              "4     NaN                NaN              NaN      NaN        NaN  \n",
              "5     NaN                NaN              NaN      NaN        NaN  \n",
              "6     NaN                NaN              NaN      NaN        NaN  \n",
              "7     NaN                NaN              NaN      NaN        NaN  \n",
              "8     NaN                NaN              NaN      NaN        NaN  \n",
              "9     NaN                NaN              NaN      NaN        NaN  "
            ],
            "text/html": [
              "\n",
              "  <div id=\"df-30b6884f-7ec9-47d2-b9ab-b89419c91cea\">\n",
              "    <div class=\"colab-df-container\">\n",
              "      <div>\n",
              "<style scoped>\n",
              "    .dataframe tbody tr th:only-of-type {\n",
              "        vertical-align: middle;\n",
              "    }\n",
              "\n",
              "    .dataframe tbody tr th {\n",
              "        vertical-align: top;\n",
              "    }\n",
              "\n",
              "    .dataframe thead th {\n",
              "        text-align: right;\n",
              "    }\n",
              "</style>\n",
              "<table border=\"1\" class=\"dataframe\">\n",
              "  <thead>\n",
              "    <tr style=\"text-align: right;\">\n",
              "      <th></th>\n",
              "      <th>0</th>\n",
              "      <th>1</th>\n",
              "      <th>2</th>\n",
              "      <th>3</th>\n",
              "      <th>4</th>\n",
              "      <th>5</th>\n",
              "      <th>6</th>\n",
              "      <th>7</th>\n",
              "      <th>8</th>\n",
              "      <th>9</th>\n",
              "      <th>10</th>\n",
              "      <th>11</th>\n",
              "      <th>12</th>\n",
              "      <th>13</th>\n",
              "      <th>14</th>\n",
              "      <th>15</th>\n",
              "      <th>16</th>\n",
              "      <th>17</th>\n",
              "      <th>18</th>\n",
              "      <th>19</th>\n",
              "    </tr>\n",
              "  </thead>\n",
              "  <tbody>\n",
              "    <tr>\n",
              "      <th>0</th>\n",
              "      <td>shrimp</td>\n",
              "      <td>almonds</td>\n",
              "      <td>avocado</td>\n",
              "      <td>vegetables mix</td>\n",
              "      <td>green grapes</td>\n",
              "      <td>whole weat flour</td>\n",
              "      <td>yams</td>\n",
              "      <td>cottage cheese</td>\n",
              "      <td>energy drink</td>\n",
              "      <td>tomato juice</td>\n",
              "      <td>low fat yogurt</td>\n",
              "      <td>green tea</td>\n",
              "      <td>honey</td>\n",
              "      <td>salad</td>\n",
              "      <td>mineral water</td>\n",
              "      <td>salmon</td>\n",
              "      <td>antioxydant juice</td>\n",
              "      <td>frozen smoothie</td>\n",
              "      <td>spinach</td>\n",
              "      <td>olive oil</td>\n",
              "    </tr>\n",
              "    <tr>\n",
              "      <th>1</th>\n",
              "      <td>burgers</td>\n",
              "      <td>meatballs</td>\n",
              "      <td>eggs</td>\n",
              "      <td>NaN</td>\n",
              "      <td>NaN</td>\n",
              "      <td>NaN</td>\n",
              "      <td>NaN</td>\n",
              "      <td>NaN</td>\n",
              "      <td>NaN</td>\n",
              "      <td>NaN</td>\n",
              "      <td>NaN</td>\n",
              "      <td>NaN</td>\n",
              "      <td>NaN</td>\n",
              "      <td>NaN</td>\n",
              "      <td>NaN</td>\n",
              "      <td>NaN</td>\n",
              "      <td>NaN</td>\n",
              "      <td>NaN</td>\n",
              "      <td>NaN</td>\n",
              "      <td>NaN</td>\n",
              "    </tr>\n",
              "    <tr>\n",
              "      <th>2</th>\n",
              "      <td>chutney</td>\n",
              "      <td>NaN</td>\n",
              "      <td>NaN</td>\n",
              "      <td>NaN</td>\n",
              "      <td>NaN</td>\n",
              "      <td>NaN</td>\n",
              "      <td>NaN</td>\n",
              "      <td>NaN</td>\n",
              "      <td>NaN</td>\n",
              "      <td>NaN</td>\n",
              "      <td>NaN</td>\n",
              "      <td>NaN</td>\n",
              "      <td>NaN</td>\n",
              "      <td>NaN</td>\n",
              "      <td>NaN</td>\n",
              "      <td>NaN</td>\n",
              "      <td>NaN</td>\n",
              "      <td>NaN</td>\n",
              "      <td>NaN</td>\n",
              "      <td>NaN</td>\n",
              "    </tr>\n",
              "    <tr>\n",
              "      <th>3</th>\n",
              "      <td>turkey</td>\n",
              "      <td>avocado</td>\n",
              "      <td>NaN</td>\n",
              "      <td>NaN</td>\n",
              "      <td>NaN</td>\n",
              "      <td>NaN</td>\n",
              "      <td>NaN</td>\n",
              "      <td>NaN</td>\n",
              "      <td>NaN</td>\n",
              "      <td>NaN</td>\n",
              "      <td>NaN</td>\n",
              "      <td>NaN</td>\n",
              "      <td>NaN</td>\n",
              "      <td>NaN</td>\n",
              "      <td>NaN</td>\n",
              "      <td>NaN</td>\n",
              "      <td>NaN</td>\n",
              "      <td>NaN</td>\n",
              "      <td>NaN</td>\n",
              "      <td>NaN</td>\n",
              "    </tr>\n",
              "    <tr>\n",
              "      <th>4</th>\n",
              "      <td>mineral water</td>\n",
              "      <td>milk</td>\n",
              "      <td>energy bar</td>\n",
              "      <td>whole wheat rice</td>\n",
              "      <td>green tea</td>\n",
              "      <td>NaN</td>\n",
              "      <td>NaN</td>\n",
              "      <td>NaN</td>\n",
              "      <td>NaN</td>\n",
              "      <td>NaN</td>\n",
              "      <td>NaN</td>\n",
              "      <td>NaN</td>\n",
              "      <td>NaN</td>\n",
              "      <td>NaN</td>\n",
              "      <td>NaN</td>\n",
              "      <td>NaN</td>\n",
              "      <td>NaN</td>\n",
              "      <td>NaN</td>\n",
              "      <td>NaN</td>\n",
              "      <td>NaN</td>\n",
              "    </tr>\n",
              "    <tr>\n",
              "      <th>5</th>\n",
              "      <td>low fat yogurt</td>\n",
              "      <td>NaN</td>\n",
              "      <td>NaN</td>\n",
              "      <td>NaN</td>\n",
              "      <td>NaN</td>\n",
              "      <td>NaN</td>\n",
              "      <td>NaN</td>\n",
              "      <td>NaN</td>\n",
              "      <td>NaN</td>\n",
              "      <td>NaN</td>\n",
              "      <td>NaN</td>\n",
              "      <td>NaN</td>\n",
              "      <td>NaN</td>\n",
              "      <td>NaN</td>\n",
              "      <td>NaN</td>\n",
              "      <td>NaN</td>\n",
              "      <td>NaN</td>\n",
              "      <td>NaN</td>\n",
              "      <td>NaN</td>\n",
              "      <td>NaN</td>\n",
              "    </tr>\n",
              "    <tr>\n",
              "      <th>6</th>\n",
              "      <td>whole wheat pasta</td>\n",
              "      <td>french fries</td>\n",
              "      <td>NaN</td>\n",
              "      <td>NaN</td>\n",
              "      <td>NaN</td>\n",
              "      <td>NaN</td>\n",
              "      <td>NaN</td>\n",
              "      <td>NaN</td>\n",
              "      <td>NaN</td>\n",
              "      <td>NaN</td>\n",
              "      <td>NaN</td>\n",
              "      <td>NaN</td>\n",
              "      <td>NaN</td>\n",
              "      <td>NaN</td>\n",
              "      <td>NaN</td>\n",
              "      <td>NaN</td>\n",
              "      <td>NaN</td>\n",
              "      <td>NaN</td>\n",
              "      <td>NaN</td>\n",
              "      <td>NaN</td>\n",
              "    </tr>\n",
              "    <tr>\n",
              "      <th>7</th>\n",
              "      <td>soup</td>\n",
              "      <td>light cream</td>\n",
              "      <td>shallot</td>\n",
              "      <td>NaN</td>\n",
              "      <td>NaN</td>\n",
              "      <td>NaN</td>\n",
              "      <td>NaN</td>\n",
              "      <td>NaN</td>\n",
              "      <td>NaN</td>\n",
              "      <td>NaN</td>\n",
              "      <td>NaN</td>\n",
              "      <td>NaN</td>\n",
              "      <td>NaN</td>\n",
              "      <td>NaN</td>\n",
              "      <td>NaN</td>\n",
              "      <td>NaN</td>\n",
              "      <td>NaN</td>\n",
              "      <td>NaN</td>\n",
              "      <td>NaN</td>\n",
              "      <td>NaN</td>\n",
              "    </tr>\n",
              "    <tr>\n",
              "      <th>8</th>\n",
              "      <td>frozen vegetables</td>\n",
              "      <td>spaghetti</td>\n",
              "      <td>green tea</td>\n",
              "      <td>NaN</td>\n",
              "      <td>NaN</td>\n",
              "      <td>NaN</td>\n",
              "      <td>NaN</td>\n",
              "      <td>NaN</td>\n",
              "      <td>NaN</td>\n",
              "      <td>NaN</td>\n",
              "      <td>NaN</td>\n",
              "      <td>NaN</td>\n",
              "      <td>NaN</td>\n",
              "      <td>NaN</td>\n",
              "      <td>NaN</td>\n",
              "      <td>NaN</td>\n",
              "      <td>NaN</td>\n",
              "      <td>NaN</td>\n",
              "      <td>NaN</td>\n",
              "      <td>NaN</td>\n",
              "    </tr>\n",
              "    <tr>\n",
              "      <th>9</th>\n",
              "      <td>french fries</td>\n",
              "      <td>NaN</td>\n",
              "      <td>NaN</td>\n",
              "      <td>NaN</td>\n",
              "      <td>NaN</td>\n",
              "      <td>NaN</td>\n",
              "      <td>NaN</td>\n",
              "      <td>NaN</td>\n",
              "      <td>NaN</td>\n",
              "      <td>NaN</td>\n",
              "      <td>NaN</td>\n",
              "      <td>NaN</td>\n",
              "      <td>NaN</td>\n",
              "      <td>NaN</td>\n",
              "      <td>NaN</td>\n",
              "      <td>NaN</td>\n",
              "      <td>NaN</td>\n",
              "      <td>NaN</td>\n",
              "      <td>NaN</td>\n",
              "      <td>NaN</td>\n",
              "    </tr>\n",
              "  </tbody>\n",
              "</table>\n",
              "</div>\n",
              "      <button class=\"colab-df-convert\" onclick=\"convertToInteractive('df-30b6884f-7ec9-47d2-b9ab-b89419c91cea')\"\n",
              "              title=\"Convert this dataframe to an interactive table.\"\n",
              "              style=\"display:none;\">\n",
              "        \n",
              "  <svg xmlns=\"http://www.w3.org/2000/svg\" height=\"24px\"viewBox=\"0 0 24 24\"\n",
              "       width=\"24px\">\n",
              "    <path d=\"M0 0h24v24H0V0z\" fill=\"none\"/>\n",
              "    <path d=\"M18.56 5.44l.94 2.06.94-2.06 2.06-.94-2.06-.94-.94-2.06-.94 2.06-2.06.94zm-11 1L8.5 8.5l.94-2.06 2.06-.94-2.06-.94L8.5 2.5l-.94 2.06-2.06.94zm10 10l.94 2.06.94-2.06 2.06-.94-2.06-.94-.94-2.06-.94 2.06-2.06.94z\"/><path d=\"M17.41 7.96l-1.37-1.37c-.4-.4-.92-.59-1.43-.59-.52 0-1.04.2-1.43.59L10.3 9.45l-7.72 7.72c-.78.78-.78 2.05 0 2.83L4 21.41c.39.39.9.59 1.41.59.51 0 1.02-.2 1.41-.59l7.78-7.78 2.81-2.81c.8-.78.8-2.07 0-2.86zM5.41 20L4 18.59l7.72-7.72 1.47 1.35L5.41 20z\"/>\n",
              "  </svg>\n",
              "      </button>\n",
              "      \n",
              "  <style>\n",
              "    .colab-df-container {\n",
              "      display:flex;\n",
              "      flex-wrap:wrap;\n",
              "      gap: 12px;\n",
              "    }\n",
              "\n",
              "    .colab-df-convert {\n",
              "      background-color: #E8F0FE;\n",
              "      border: none;\n",
              "      border-radius: 50%;\n",
              "      cursor: pointer;\n",
              "      display: none;\n",
              "      fill: #1967D2;\n",
              "      height: 32px;\n",
              "      padding: 0 0 0 0;\n",
              "      width: 32px;\n",
              "    }\n",
              "\n",
              "    .colab-df-convert:hover {\n",
              "      background-color: #E2EBFA;\n",
              "      box-shadow: 0px 1px 2px rgba(60, 64, 67, 0.3), 0px 1px 3px 1px rgba(60, 64, 67, 0.15);\n",
              "      fill: #174EA6;\n",
              "    }\n",
              "\n",
              "    [theme=dark] .colab-df-convert {\n",
              "      background-color: #3B4455;\n",
              "      fill: #D2E3FC;\n",
              "    }\n",
              "\n",
              "    [theme=dark] .colab-df-convert:hover {\n",
              "      background-color: #434B5C;\n",
              "      box-shadow: 0px 1px 3px 1px rgba(0, 0, 0, 0.15);\n",
              "      filter: drop-shadow(0px 1px 2px rgba(0, 0, 0, 0.3));\n",
              "      fill: #FFFFFF;\n",
              "    }\n",
              "  </style>\n",
              "\n",
              "      <script>\n",
              "        const buttonEl =\n",
              "          document.querySelector('#df-30b6884f-7ec9-47d2-b9ab-b89419c91cea button.colab-df-convert');\n",
              "        buttonEl.style.display =\n",
              "          google.colab.kernel.accessAllowed ? 'block' : 'none';\n",
              "\n",
              "        async function convertToInteractive(key) {\n",
              "          const element = document.querySelector('#df-30b6884f-7ec9-47d2-b9ab-b89419c91cea');\n",
              "          const dataTable =\n",
              "            await google.colab.kernel.invokeFunction('convertToInteractive',\n",
              "                                                     [key], {});\n",
              "          if (!dataTable) return;\n",
              "\n",
              "          const docLinkHtml = 'Like what you see? Visit the ' +\n",
              "            '<a target=\"_blank\" href=https://colab.research.google.com/notebooks/data_table.ipynb>data table notebook</a>'\n",
              "            + ' to learn more about interactive tables.';\n",
              "          element.innerHTML = '';\n",
              "          dataTable['output_type'] = 'display_data';\n",
              "          await google.colab.output.renderOutput(dataTable, element);\n",
              "          const docLink = document.createElement('div');\n",
              "          docLink.innerHTML = docLinkHtml;\n",
              "          element.appendChild(docLink);\n",
              "        }\n",
              "      </script>\n",
              "    </div>\n",
              "  </div>\n",
              "  "
            ]
          },
          "metadata": {},
          "execution_count": 6
        }
      ]
    },
    {
      "cell_type": "markdown",
      "source": [
        "#### Tamanho da base de dados"
      ],
      "metadata": {
        "id": "aa_Y7NTMftkM"
      }
    },
    {
      "cell_type": "code",
      "source": [
        "len(mercado)"
      ],
      "metadata": {
        "colab": {
          "base_uri": "https://localhost:8080/"
        },
        "id": "EBDoyzwkfxYX",
        "outputId": "31279b39-f2c8-4ff6-f2a1-210e8e8c0e9f"
      },
      "execution_count": null,
      "outputs": [
        {
          "output_type": "execute_result",
          "data": {
            "text/plain": [
              "7501"
            ]
          },
          "metadata": {},
          "execution_count": 7
        }
      ]
    },
    {
      "cell_type": "markdown",
      "source": [
        "5. É preciso fazer uma limpeza nos dados, removendo espaços em branco de alguns produtos"
      ],
      "metadata": {
        "id": "0MdpjP5iwzhn"
      }
    },
    {
      "cell_type": "code",
      "source": [
        "for index in mercado.columns:\n",
        "    mercado[index] = mercado[index].str.strip()"
      ],
      "metadata": {
        "id": "uu4e1pulv-0J"
      },
      "execution_count": null,
      "outputs": []
    },
    {
      "cell_type": "markdown",
      "source": [
        "6. Vamos fazer uma análise exploratória inicial vendo  os produtos existentes na base de dados. A função **melt()** permite modifica o formato original do dataframe. Nesse caso, estamos pegando os valores, excluindo os nulos e ordenando. "
      ],
      "metadata": {
        "id": "C4umz1Wqvucf"
      }
    },
    {
      "cell_type": "code",
      "source": [
        "itens = mercado.melt()['value'].dropna().sort_values()\n",
        "print(f'Existem {itens.nunique()} produtos distintos:\\n', itens.unique())"
      ],
      "metadata": {
        "id": "IkJ7aj7MtSD1",
        "colab": {
          "base_uri": "https://localhost:8080/"
        },
        "outputId": "e198cc2f-951e-46dd-afad-f7caab17e824"
      },
      "execution_count": null,
      "outputs": [
        {
          "output_type": "stream",
          "name": "stdout",
          "text": [
            "Existem 119 produtos distintos:\n",
            " ['almonds' 'antioxydant juice' 'asparagus' 'avocado' 'babies food' 'bacon'\n",
            " 'barbecue sauce' 'black tea' 'blueberries' 'body spray' 'bramble'\n",
            " 'brownies' 'bug spray' 'burger sauce' 'burgers' 'butter' 'cake'\n",
            " 'candy bars' 'carrots' 'cauliflower' 'cereals' 'champagne' 'chicken'\n",
            " 'chili' 'chocolate' 'chocolate bread' 'chutney' 'cider'\n",
            " 'clothes accessories' 'cookies' 'cooking oil' 'corn' 'cottage cheese'\n",
            " 'cream' 'dessert wine' 'eggplant' 'eggs' 'energy bar' 'energy drink'\n",
            " 'escalope' 'extra dark chocolate' 'flax seed' 'french fries'\n",
            " 'french wine' 'fresh bread' 'fresh tuna' 'fromage blanc'\n",
            " 'frozen smoothie' 'frozen vegetables' 'gluten free bar' 'grated cheese'\n",
            " 'green beans' 'green grapes' 'green tea' 'ground beef' 'gums' 'ham'\n",
            " 'hand protein bar' 'herb & pepper' 'honey' 'hot dogs' 'ketchup'\n",
            " 'light cream' 'light mayo' 'low fat yogurt' 'magazines' 'mashed potato'\n",
            " 'mayonnaise' 'meatballs' 'melons' 'milk' 'mineral water' 'mint'\n",
            " 'mint green tea' 'muffins' 'mushroom cream sauce' 'napkins' 'nonfat milk'\n",
            " 'oatmeal' 'oil' 'olive oil' 'pancakes' 'parmesan cheese' 'pasta' 'pepper'\n",
            " 'pet food' 'pickles' 'protein bar' 'red wine' 'rice' 'salad' 'salmon'\n",
            " 'salt' 'sandwich' 'shallot' 'shampoo' 'shrimp' 'soda' 'soup' 'spaghetti'\n",
            " 'sparkling water' 'spinach' 'strawberries' 'strong cheese' 'tea'\n",
            " 'tomato juice' 'tomato sauce' 'tomatoes' 'toothpaste' 'turkey'\n",
            " 'vegetables mix' 'water spray' 'white wine' 'whole weat flour'\n",
            " 'whole wheat pasta' 'whole wheat rice' 'yams' 'yogurt cake' 'zucchini']\n"
          ]
        }
      ]
    },
    {
      "cell_type": "markdown",
      "source": [
        "7. Vamos verificar os itens mais vendidos"
      ],
      "metadata": {
        "id": "5cavijUN9qBm"
      }
    },
    {
      "cell_type": "code",
      "source": [
        "qtde_itens = itens.value_counts()\n",
        "\n",
        "barra = qtde_itens.nlargest(10).plot(kind=\"bar\")\n",
        "barra.set_title(\"Itens mais vendidos\", size=20, weight=500, pad=15)\n",
        "barra.set_ylabel(\"Qtde\")\n",
        "plt.show()"
      ],
      "metadata": {
        "colab": {
          "base_uri": "https://localhost:8080/",
          "height": 701
        },
        "id": "9Nmihqm0PFoD",
        "outputId": "b7f79eb8-260b-44a2-e567-8ac21b3d80ea"
      },
      "execution_count": null,
      "outputs": [
        {
          "output_type": "display_data",
          "data": {
            "text/plain": [
              "<Figure size 1080x720 with 1 Axes>"
            ],
            "image/png": "[encoded data removed]"
          },
          "metadata": {
            "needs_background": "light"
          }
        }
      ]
    },
    {
      "cell_type": "markdown",
      "source": [
        "8. E também os itens menos vendidos."
      ],
      "metadata": {
        "id": "QBhgh6NY-lv4"
      }
    },
    {
      "cell_type": "code",
      "source": [
        "barra = qtde_itens.nsmallest(10).plot(kind=\"bar\")\n",
        "barra.set_title(\"Itens menos vendidos\", size=20, weight=500, pad=15)\n",
        "barra.set_ylabel(\"Qtde\")\n",
        "plt.show()"
      ],
      "metadata": {
        "colab": {
          "base_uri": "https://localhost:8080/",
          "height": 692
        },
        "id": "gO9__T3Z-p4a",
        "outputId": "1d1266d1-d6b0-412e-9f80-c0c79b0207f7"
      },
      "execution_count": null,
      "outputs": [
        {
          "output_type": "display_data",
          "data": {
            "text/plain": [
              "<Figure size 1080x720 with 1 Axes>"
            ],
            "image/png": "[encoded data removed]"
          },
          "metadata": {
            "needs_background": "light"
          }
        }
      ]
    },
    {
      "cell_type": "markdown",
      "source": [
        "9. Pré-processamento: Vamos contar os itens de cada transação para identificar objetos com mais de um item por transação."
      ],
      "metadata": {
        "id": "2nHiQD5xBY2j"
      }
    },
    {
      "cell_type": "code",
      "source": [
        "#conta a qtde de itens não nulos em cada objeto\n",
        "qtde_por_cesta = mercado.notna().apply(sum, axis=1)"
      ],
      "metadata": {
        "id": "LhQ-qrBoAsFe"
      },
      "execution_count": null,
      "outputs": []
    },
    {
      "cell_type": "markdown",
      "source": [
        "10. No Apriori é necessário haver ao menos 2 itens em cada transação, então vamos eliminar transações com um único produto."
      ],
      "metadata": {
        "id": "uLrr1wwDCUhJ"
      }
    },
    {
      "cell_type": "code",
      "source": [
        "#separando os objetos com mais de um item na transação\n",
        "cestas = [set(linha.dropna()) for _, linha in mercado[qtde_por_cesta > 1].iterrows()]\n",
        "cestas[:5]"
      ],
      "metadata": {
        "id": "Xl7MRBQxAsLN",
        "colab": {
          "base_uri": "https://localhost:8080/"
        },
        "outputId": "678d1766-c9c2-4d43-e61c-88d19bd729cd"
      },
      "execution_count": null,
      "outputs": [
        {
          "output_type": "execute_result",
          "data": {
            "text/plain": [
              "[{'almonds',\n",
              "  'antioxydant juice',\n",
              "  'avocado',\n",
              "  'cottage cheese',\n",
              "  'energy drink',\n",
              "  'frozen smoothie',\n",
              "  'green grapes',\n",
              "  'green tea',\n",
              "  'honey',\n",
              "  'low fat yogurt',\n",
              "  'mineral water',\n",
              "  'olive oil',\n",
              "  'salad',\n",
              "  'salmon',\n",
              "  'shrimp',\n",
              "  'spinach',\n",
              "  'tomato juice',\n",
              "  'vegetables mix',\n",
              "  'whole weat flour',\n",
              "  'yams'},\n",
              " {'burgers', 'eggs', 'meatballs'},\n",
              " {'avocado', 'turkey'},\n",
              " {'energy bar', 'green tea', 'milk', 'mineral water', 'whole wheat rice'},\n",
              " {'french fries', 'whole wheat pasta'}]"
            ]
          },
          "metadata": {},
          "execution_count": 17
        }
      ]
    },
    {
      "cell_type": "code",
      "source": [
        "len(cestas)"
      ],
      "metadata": {
        "colab": {
          "base_uri": "https://localhost:8080/"
        },
        "id": "WNcHJ_U9rAyN",
        "outputId": "b1f0928c-61ab-4c26-a973-863f7266b3e2"
      },
      "execution_count": null,
      "outputs": [
        {
          "output_type": "execute_result",
          "data": {
            "text/plain": [
              "5747"
            ]
          },
          "metadata": {},
          "execution_count": 18
        }
      ]
    },
    {
      "cell_type": "markdown",
      "source": [
        "11. Vamos rodar o Apriori, definindo os valores mínimos de suporte e confiança. O resultado mostra as regras de associação que atendem aos níveis de suporte e confiança que escolhemos. Nesse exemplo, os níveis de suporte são baixos. O item mais vendido (água mineral) aparece na maioria das relações. Os resultados podem ser usados para a criação de promoções de itens relacionados, ou então para reorganizar os produtos de forma a facilitar as compras que os clientes fazem."
      ],
      "metadata": {
        "id": "i6gMGwXJtJmd"
      }
    },
    {
      "cell_type": "code",
      "source": [
        "minsup = 0.04\n",
        "minconf = 0.3\n",
        "regras_associacao = apyori.apriori(cestas, min_support=minsup, min_confidence=minconf)\n",
        "\n",
        "for regra in regras_associacao:\n",
        "  itens = list(regra.items)\n",
        "  print(\n",
        "      f\"{itens[:-1]} --> [{itens[-1]}]  Suporte: {regra.support:.3f}\"\n",
        "      f\"  Confiança: {regra.ordered_statistics[0].confidence:.3f}\"\n",
        "  )"
      ],
      "metadata": {
        "colab": {
          "base_uri": "https://localhost:8080/"
        },
        "id": "1xHs4VbsxoJa",
        "outputId": "20b714d6-d8d0-463d-afcb-dae8904981e0"
      },
      "execution_count": null,
      "outputs": [
        {
          "output_type": "stream",
          "name": "stdout",
          "text": [
            "['chocolate'] --> [mineral water]  Suporte: 0.069  Confiança: 0.342\n",
            "['mineral water'] --> [eggs]  Suporte: 0.066  Confiança: 0.304\n",
            "['mineral water'] --> [frozen vegetables]  Suporte: 0.047  Confiança: 0.385\n",
            "['ground beef'] --> [mineral water]  Suporte: 0.053  Confiança: 0.429\n",
            "['ground beef'] --> [spaghetti]  Suporte: 0.051  Confiança: 0.411\n",
            "['milk'] --> [mineral water]  Suporte: 0.063  Confiança: 0.383\n",
            "['pancakes'] --> [mineral water]  Suporte: 0.044  Confiança: 0.375\n",
            "['spaghetti'] --> [mineral water]  Suporte: 0.078  Confiança: 0.357\n"
          ]
        }
      ]
    },
    {
      "cell_type": "markdown",
      "source": [
        "Chegamos ao fim deste tutorial. Você pode aprimorar seus conhecimentos analisando outras bases de dados do seu interesse. Experimente outros valores de suporte e confiança e veja os resultados. Tente usar também o algoritmo FP-Growth e veja as diferenças."
      ],
      "metadata": {
        "id": "o37psasBe6lD"
      }
    },
    {
      "cell_type": "code",
      "source": [
        ""
      ],
      "metadata": {
        "id": "gB7UWTu_e8pI"
      },
      "execution_count": null,
      "outputs": []
    }
  ]
}